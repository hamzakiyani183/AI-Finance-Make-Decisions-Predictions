{
 "cells": [
  {
   "cell_type": "markdown",
   "metadata": {},
   "source": [
    "# Predicting Pakistan Stock Exchange(PSX) stock movement using Random Forest Prediction Model and technical indicators (Cont. data)"
   ]
  },
  {
   "cell_type": "markdown",
   "metadata": {},
   "source": [
    "## Importing Libraries"
   ]
  },
  {
   "cell_type": "code",
   "execution_count": 53,
   "metadata": {},
   "outputs": [],
   "source": [
    "import pandas as pd\n",
    "#import pandas_datareader.data as web\n",
    "import datetime\n",
    "import seaborn as sns\n",
    "import numpy as np\n",
    "from talib.abstract import *\n",
    "from sklearn.model_selection import train_test_split\n",
    "from sklearn.ensemble import RandomForestClassifier\n",
    "from sklearn.metrics import f1_score\n",
    "import matplotlib.pyplot as plt\n"
   ]
  },
  {
   "cell_type": "markdown",
   "metadata": {},
   "source": [
    "### Research Data used in this experiment consists of 3 stocks\n",
    "#### 1- Attock Cement Pakistan Limited\n",
    "#### 2- Lucky Cement Limited \n",
    "#### 3- Fecto Cement Limited"
   ]
  },
  {
   "cell_type": "code",
   "execution_count": 54,
   "metadata": {},
   "outputs": [],
   "source": [
    "stock = ['ACPL','FECTC','LUCK']\n"
   ]
  },
  {
   "cell_type": "markdown",
   "metadata": {},
   "source": [
    "## Loading of datasets"
   ]
  },
  {
   "cell_type": "code",
   "execution_count": 55,
   "metadata": {},
   "outputs": [],
   "source": [
    "stocks = {}\n",
    "indices = {}\n",
    "for i in stock:\n",
    "    stocks[i] = pd.read_csv('Datasets/Stocks/'+i+'.csv')"
   ]
  },
  {
   "cell_type": "code",
   "execution_count": 94,
   "metadata": {},
   "outputs": [
    {
     "ename": "NameError",
     "evalue": "name 'sns' is not defined",
     "output_type": "error",
     "traceback": [
      "\u001b[1;31m---------------------------------------------------------------------------\u001b[0m",
      "\u001b[1;31mNameError\u001b[0m                                 Traceback (most recent call last)",
      "\u001b[1;32m<ipython-input-94-9377b2f92593>\u001b[0m in \u001b[0;36m<module>\u001b[1;34m\u001b[0m\n\u001b[1;32m----> 1\u001b[1;33m \u001b[0msns\u001b[0m\u001b[1;33m.\u001b[0m\u001b[0mpairplot\u001b[0m\u001b[1;33m(\u001b[0m\u001b[0mstocks\u001b[0m\u001b[1;33m)\u001b[0m\u001b[1;33m\u001b[0m\u001b[1;33m\u001b[0m\u001b[0m\n\u001b[0m",
      "\u001b[1;31mNameError\u001b[0m: name 'sns' is not defined"
     ]
    }
   ],
   "source": [
    "sns.pairplot(stocks)"
   ]
  },
  {
   "cell_type": "code",
   "execution_count": 56,
   "metadata": {},
   "outputs": [
    {
     "data": {
      "text/html": [
       "<div>\n",
       "<style scoped>\n",
       "    .dataframe tbody tr th:only-of-type {\n",
       "        vertical-align: middle;\n",
       "    }\n",
       "\n",
       "    .dataframe tbody tr th {\n",
       "        vertical-align: top;\n",
       "    }\n",
       "\n",
       "    .dataframe thead th {\n",
       "        text-align: right;\n",
       "    }\n",
       "</style>\n",
       "<table border=\"1\" class=\"dataframe\">\n",
       "  <thead>\n",
       "    <tr style=\"text-align: right;\">\n",
       "      <th></th>\n",
       "      <th>Symbol</th>\n",
       "      <th>Date</th>\n",
       "      <th>Open</th>\n",
       "      <th>High</th>\n",
       "      <th>Low</th>\n",
       "      <th>Close</th>\n",
       "      <th>Volume</th>\n",
       "    </tr>\n",
       "  </thead>\n",
       "  <tbody>\n",
       "    <tr>\n",
       "      <th>0</th>\n",
       "      <td>ACPL</td>\n",
       "      <td>03-Jan-2011</td>\n",
       "      <td>62.01</td>\n",
       "      <td>62.98</td>\n",
       "      <td>61.01</td>\n",
       "      <td>62.29</td>\n",
       "      <td>13541</td>\n",
       "    </tr>\n",
       "    <tr>\n",
       "      <th>1</th>\n",
       "      <td>ACPL</td>\n",
       "      <td>04-Jan-2011</td>\n",
       "      <td>62.50</td>\n",
       "      <td>62.79</td>\n",
       "      <td>62.00</td>\n",
       "      <td>62.50</td>\n",
       "      <td>5224</td>\n",
       "    </tr>\n",
       "    <tr>\n",
       "      <th>2</th>\n",
       "      <td>ACPL</td>\n",
       "      <td>05-Jan-2011</td>\n",
       "      <td>62.45</td>\n",
       "      <td>62.60</td>\n",
       "      <td>62.01</td>\n",
       "      <td>62.02</td>\n",
       "      <td>2394</td>\n",
       "    </tr>\n",
       "    <tr>\n",
       "      <th>3</th>\n",
       "      <td>ACPL</td>\n",
       "      <td>06-Jan-2011</td>\n",
       "      <td>62.50</td>\n",
       "      <td>62.95</td>\n",
       "      <td>61.71</td>\n",
       "      <td>62.68</td>\n",
       "      <td>19617</td>\n",
       "    </tr>\n",
       "    <tr>\n",
       "      <th>4</th>\n",
       "      <td>ACPL</td>\n",
       "      <td>07-Jan-2011</td>\n",
       "      <td>62.00</td>\n",
       "      <td>62.90</td>\n",
       "      <td>62.00</td>\n",
       "      <td>62.81</td>\n",
       "      <td>5626</td>\n",
       "    </tr>\n",
       "  </tbody>\n",
       "</table>\n",
       "</div>"
      ],
      "text/plain": [
       "  Symbol         Date   Open   High    Low  Close  Volume\n",
       "0   ACPL  03-Jan-2011  62.01  62.98  61.01  62.29   13541\n",
       "1   ACPL  04-Jan-2011  62.50  62.79  62.00  62.50    5224\n",
       "2   ACPL  05-Jan-2011  62.45  62.60  62.01  62.02    2394\n",
       "3   ACPL  06-Jan-2011  62.50  62.95  61.71  62.68   19617\n",
       "4   ACPL  07-Jan-2011  62.00  62.90  62.00  62.81    5626"
      ]
     },
     "execution_count": 56,
     "metadata": {},
     "output_type": "execute_result"
    }
   ],
   "source": [
    "stocks['ACPL'].head()"
   ]
  },
  {
   "cell_type": "code",
   "execution_count": 57,
   "metadata": {},
   "outputs": [
    {
     "data": {
      "text/html": [
       "<div>\n",
       "<style scoped>\n",
       "    .dataframe tbody tr th:only-of-type {\n",
       "        vertical-align: middle;\n",
       "    }\n",
       "\n",
       "    .dataframe tbody tr th {\n",
       "        vertical-align: top;\n",
       "    }\n",
       "\n",
       "    .dataframe thead th {\n",
       "        text-align: right;\n",
       "    }\n",
       "</style>\n",
       "<table border=\"1\" class=\"dataframe\">\n",
       "  <thead>\n",
       "    <tr style=\"text-align: right;\">\n",
       "      <th></th>\n",
       "      <th>Symbol</th>\n",
       "      <th>Date</th>\n",
       "      <th>Open</th>\n",
       "      <th>High</th>\n",
       "      <th>Low</th>\n",
       "      <th>Close</th>\n",
       "      <th>Volume</th>\n",
       "    </tr>\n",
       "  </thead>\n",
       "  <tbody>\n",
       "    <tr>\n",
       "      <th>0</th>\n",
       "      <td>FECTC</td>\n",
       "      <td>04-Jan-2011</td>\n",
       "      <td>7.30</td>\n",
       "      <td>7.30</td>\n",
       "      <td>7.20</td>\n",
       "      <td>7.20</td>\n",
       "      <td>2010</td>\n",
       "    </tr>\n",
       "    <tr>\n",
       "      <th>1</th>\n",
       "      <td>FECTC</td>\n",
       "      <td>05-Jan-2011</td>\n",
       "      <td>7.00</td>\n",
       "      <td>7.00</td>\n",
       "      <td>7.00</td>\n",
       "      <td>7.00</td>\n",
       "      <td>1090</td>\n",
       "    </tr>\n",
       "    <tr>\n",
       "      <th>2</th>\n",
       "      <td>FECTC</td>\n",
       "      <td>06-Jan-2011</td>\n",
       "      <td>7.00</td>\n",
       "      <td>7.19</td>\n",
       "      <td>7.00</td>\n",
       "      <td>7.10</td>\n",
       "      <td>17500</td>\n",
       "    </tr>\n",
       "    <tr>\n",
       "      <th>3</th>\n",
       "      <td>FECTC</td>\n",
       "      <td>10-Jan-2011</td>\n",
       "      <td>7.05</td>\n",
       "      <td>7.05</td>\n",
       "      <td>7.00</td>\n",
       "      <td>7.01</td>\n",
       "      <td>2000</td>\n",
       "    </tr>\n",
       "    <tr>\n",
       "      <th>4</th>\n",
       "      <td>FECTC</td>\n",
       "      <td>11-Jan-2011</td>\n",
       "      <td>7.35</td>\n",
       "      <td>7.35</td>\n",
       "      <td>7.35</td>\n",
       "      <td>7.35</td>\n",
       "      <td>100</td>\n",
       "    </tr>\n",
       "  </tbody>\n",
       "</table>\n",
       "</div>"
      ],
      "text/plain": [
       "  Symbol         Date  Open  High   Low  Close  Volume\n",
       "0  FECTC  04-Jan-2011  7.30  7.30  7.20   7.20    2010\n",
       "1  FECTC  05-Jan-2011  7.00  7.00  7.00   7.00    1090\n",
       "2  FECTC  06-Jan-2011  7.00  7.19  7.00   7.10   17500\n",
       "3  FECTC  10-Jan-2011  7.05  7.05  7.00   7.01    2000\n",
       "4  FECTC  11-Jan-2011  7.35  7.35  7.35   7.35     100"
      ]
     },
     "execution_count": 57,
     "metadata": {},
     "output_type": "execute_result"
    }
   ],
   "source": [
    "stocks['FECTC'].head()"
   ]
  },
  {
   "cell_type": "code",
   "execution_count": 58,
   "metadata": {},
   "outputs": [
    {
     "data": {
      "text/html": [
       "<div>\n",
       "<style scoped>\n",
       "    .dataframe tbody tr th:only-of-type {\n",
       "        vertical-align: middle;\n",
       "    }\n",
       "\n",
       "    .dataframe tbody tr th {\n",
       "        vertical-align: top;\n",
       "    }\n",
       "\n",
       "    .dataframe thead th {\n",
       "        text-align: right;\n",
       "    }\n",
       "</style>\n",
       "<table border=\"1\" class=\"dataframe\">\n",
       "  <thead>\n",
       "    <tr style=\"text-align: right;\">\n",
       "      <th></th>\n",
       "      <th>Symbol</th>\n",
       "      <th>Date</th>\n",
       "      <th>Open</th>\n",
       "      <th>High</th>\n",
       "      <th>Low</th>\n",
       "      <th>Close</th>\n",
       "      <th>Volume</th>\n",
       "    </tr>\n",
       "  </thead>\n",
       "  <tbody>\n",
       "    <tr>\n",
       "      <th>0</th>\n",
       "      <td>LUCK</td>\n",
       "      <td>03-Jan-2011</td>\n",
       "      <td>75.06</td>\n",
       "      <td>75.45</td>\n",
       "      <td>73.0</td>\n",
       "      <td>73.31</td>\n",
       "      <td>1640080</td>\n",
       "    </tr>\n",
       "    <tr>\n",
       "      <th>1</th>\n",
       "      <td>LUCK</td>\n",
       "      <td>04-Jan-2011</td>\n",
       "      <td>73.33</td>\n",
       "      <td>75.75</td>\n",
       "      <td>73.1</td>\n",
       "      <td>75.57</td>\n",
       "      <td>3054869</td>\n",
       "    </tr>\n",
       "    <tr>\n",
       "      <th>2</th>\n",
       "      <td>LUCK</td>\n",
       "      <td>05-Jan-2011</td>\n",
       "      <td>74.61</td>\n",
       "      <td>76.25</td>\n",
       "      <td>74.6</td>\n",
       "      <td>75.11</td>\n",
       "      <td>1679231</td>\n",
       "    </tr>\n",
       "    <tr>\n",
       "      <th>3</th>\n",
       "      <td>LUCK</td>\n",
       "      <td>06-Jan-2011</td>\n",
       "      <td>75.70</td>\n",
       "      <td>76.10</td>\n",
       "      <td>74.8</td>\n",
       "      <td>75.05</td>\n",
       "      <td>1164903</td>\n",
       "    </tr>\n",
       "    <tr>\n",
       "      <th>4</th>\n",
       "      <td>LUCK</td>\n",
       "      <td>07-Jan-2011</td>\n",
       "      <td>75.50</td>\n",
       "      <td>75.60</td>\n",
       "      <td>74.9</td>\n",
       "      <td>75.13</td>\n",
       "      <td>866665</td>\n",
       "    </tr>\n",
       "  </tbody>\n",
       "</table>\n",
       "</div>"
      ],
      "text/plain": [
       "  Symbol         Date   Open   High   Low  Close   Volume\n",
       "0   LUCK  03-Jan-2011  75.06  75.45  73.0  73.31  1640080\n",
       "1   LUCK  04-Jan-2011  73.33  75.75  73.1  75.57  3054869\n",
       "2   LUCK  05-Jan-2011  74.61  76.25  74.6  75.11  1679231\n",
       "3   LUCK  06-Jan-2011  75.70  76.10  74.8  75.05  1164903\n",
       "4   LUCK  07-Jan-2011  75.50  75.60  74.9  75.13   866665"
      ]
     },
     "execution_count": 58,
     "metadata": {},
     "output_type": "execute_result"
    }
   ],
   "source": [
    "stocks['LUCK'].head()"
   ]
  },
  {
   "cell_type": "code",
   "execution_count": 59,
   "metadata": {},
   "outputs": [
    {
     "data": {
      "text/plain": [
       "2514"
      ]
     },
     "execution_count": 59,
     "metadata": {},
     "output_type": "execute_result"
    }
   ],
   "source": [
    "len(stocks['ACPL'])"
   ]
  },
  {
   "cell_type": "code",
   "execution_count": 60,
   "metadata": {},
   "outputs": [
    {
     "data": {
      "text/plain": [
       "2404"
      ]
     },
     "execution_count": 60,
     "metadata": {},
     "output_type": "execute_result"
    }
   ],
   "source": [
    "len(stocks['FECTC'])"
   ]
  },
  {
   "cell_type": "code",
   "execution_count": 61,
   "metadata": {},
   "outputs": [
    {
     "data": {
      "text/plain": [
       "2538"
      ]
     },
     "execution_count": 61,
     "metadata": {},
     "output_type": "execute_result"
    }
   ],
   "source": [
    "len(stocks['LUCK'])"
   ]
  },
  {
   "cell_type": "code",
   "execution_count": 62,
   "metadata": {},
   "outputs": [],
   "source": [
    "for i,j in enumerate(stocks):\n",
    "    stocks[j].columns = [s.lower() for s in stocks[j].columns]\n",
    "    stocks[j].volume = stocks[j].volume.apply(lambda x: float(x))\n",
    "for i,j in enumerate(indices):\n",
    "    indices[j].columns = [s.lower() for s in indices[j].columns]\n",
    "    indices[j].volume = indices[j].volume.apply(lambda x: float(x))"
   ]
  },
  {
   "cell_type": "markdown",
   "metadata": {},
   "source": [
    "## Calculation of Technical Indicators "
   ]
  },
  {
   "cell_type": "code",
   "execution_count": 63,
   "metadata": {},
   "outputs": [],
   "source": [
    "def get_stocks_indicators(stocks, period):\n",
    "    stocks_indicators = {}\n",
    "    for i in stocks:\n",
    "        features = pd.DataFrame(SMA(stocks[i], timeperiod=10))\n",
    "        features.columns = ['sma_10']\n",
    "        features['mom_10'] = pd.DataFrame(MOM(stocks[i],10))\n",
    "        features['wma_10'] = pd.DataFrame(WMA(stocks[i],10))\n",
    "        features = pd.concat([features,STOCHF(stocks[i], \n",
    "                                          fastk_period=14, \n",
    "                                          fastd_period=3)],\n",
    "                             axis=1)\n",
    "        features['macd'] = pd.DataFrame(MACD(stocks[i], fastperiod=12, slowperiod=26)['macd'])\n",
    "        features['rsi'] = pd.DataFrame(RSI(stocks[i], timeperiod=14))\n",
    "        features['willr'] = pd.DataFrame(WILLR(stocks[i], timeperiod=14))\n",
    "        features['cci'] = pd.DataFrame(CCI(stocks[i], timeperiod=14))\n",
    "        features['adosc'] = pd.DataFrame(ADOSC(stocks[i], fastperiod=3, slowperiod=10))\n",
    "        features['pct_change'] = ROC(stocks[i], timeperiod=period)\n",
    "        features['pct_change'] = features['pct_change'].shift(-period)\n",
    "        features['pct_change'] = features['pct_change'].apply(lambda x: '1' if x > 0 else '0' if x <= 0 else np.nan)\n",
    "        features = features.dropna()\n",
    "        #features = features.iloc[np.where(features.index=='1998-5-5')[0][0]:np.where(features.index=='2015-5-5')[0][0]]\n",
    "        stocks_indicators[i] = features\n",
    "    return stocks_indicators"
   ]
  },
  {
   "cell_type": "code",
   "execution_count": 64,
   "metadata": {},
   "outputs": [],
   "source": [
    "stocks_indicators = get_stocks_indicators(stocks, 1)"
   ]
  },
  {
   "cell_type": "code",
   "execution_count": 65,
   "metadata": {},
   "outputs": [
    {
     "data": {
      "text/html": [
       "<div>\n",
       "<style scoped>\n",
       "    .dataframe tbody tr th:only-of-type {\n",
       "        vertical-align: middle;\n",
       "    }\n",
       "\n",
       "    .dataframe tbody tr th {\n",
       "        vertical-align: top;\n",
       "    }\n",
       "\n",
       "    .dataframe thead th {\n",
       "        text-align: right;\n",
       "    }\n",
       "</style>\n",
       "<table border=\"1\" class=\"dataframe\">\n",
       "  <thead>\n",
       "    <tr style=\"text-align: right;\">\n",
       "      <th></th>\n",
       "      <th>sma_10</th>\n",
       "      <th>mom_10</th>\n",
       "      <th>wma_10</th>\n",
       "      <th>fastk</th>\n",
       "      <th>fastd</th>\n",
       "      <th>macd</th>\n",
       "      <th>rsi</th>\n",
       "      <th>willr</th>\n",
       "      <th>cci</th>\n",
       "      <th>adosc</th>\n",
       "      <th>pct_change</th>\n",
       "    </tr>\n",
       "  </thead>\n",
       "  <tbody>\n",
       "    <tr>\n",
       "      <th>33</th>\n",
       "      <td>51.250</td>\n",
       "      <td>-1.00</td>\n",
       "      <td>51.071273</td>\n",
       "      <td>37.083333</td>\n",
       "      <td>26.673435</td>\n",
       "      <td>-3.209288</td>\n",
       "      <td>25.173727</td>\n",
       "      <td>-62.916667</td>\n",
       "      <td>-51.815589</td>\n",
       "      <td>-34929.474436</td>\n",
       "      <td>0</td>\n",
       "    </tr>\n",
       "    <tr>\n",
       "      <th>34</th>\n",
       "      <td>51.176</td>\n",
       "      <td>-0.74</td>\n",
       "      <td>51.073091</td>\n",
       "      <td>45.862069</td>\n",
       "      <td>34.117654</td>\n",
       "      <td>-3.046644</td>\n",
       "      <td>25.138465</td>\n",
       "      <td>-54.137931</td>\n",
       "      <td>-66.848444</td>\n",
       "      <td>-28110.421528</td>\n",
       "      <td>0</td>\n",
       "    </tr>\n",
       "    <tr>\n",
       "      <th>35</th>\n",
       "      <td>51.062</td>\n",
       "      <td>-1.14</td>\n",
       "      <td>50.948364</td>\n",
       "      <td>37.500000</td>\n",
       "      <td>40.148467</td>\n",
       "      <td>-2.945922</td>\n",
       "      <td>22.522409</td>\n",
       "      <td>-62.500000</td>\n",
       "      <td>-118.913121</td>\n",
       "      <td>-22195.957820</td>\n",
       "      <td>1</td>\n",
       "    </tr>\n",
       "    <tr>\n",
       "      <th>36</th>\n",
       "      <td>51.018</td>\n",
       "      <td>-0.44</td>\n",
       "      <td>50.951636</td>\n",
       "      <td>57.882883</td>\n",
       "      <td>47.081651</td>\n",
       "      <td>-2.786372</td>\n",
       "      <td>28.649460</td>\n",
       "      <td>-42.117117</td>\n",
       "      <td>-79.844337</td>\n",
       "      <td>-15927.256282</td>\n",
       "      <td>1</td>\n",
       "    </tr>\n",
       "    <tr>\n",
       "      <th>37</th>\n",
       "      <td>50.965</td>\n",
       "      <td>-0.53</td>\n",
       "      <td>50.966545</td>\n",
       "      <td>58.333333</td>\n",
       "      <td>51.238739</td>\n",
       "      <td>-2.628019</td>\n",
       "      <td>28.854852</td>\n",
       "      <td>-41.666667</td>\n",
       "      <td>-48.740930</td>\n",
       "      <td>-10018.950677</td>\n",
       "      <td>0</td>\n",
       "    </tr>\n",
       "  </tbody>\n",
       "</table>\n",
       "</div>"
      ],
      "text/plain": [
       "    sma_10  mom_10     wma_10      fastk      fastd      macd        rsi  \\\n",
       "33  51.250   -1.00  51.071273  37.083333  26.673435 -3.209288  25.173727   \n",
       "34  51.176   -0.74  51.073091  45.862069  34.117654 -3.046644  25.138465   \n",
       "35  51.062   -1.14  50.948364  37.500000  40.148467 -2.945922  22.522409   \n",
       "36  51.018   -0.44  50.951636  57.882883  47.081651 -2.786372  28.649460   \n",
       "37  50.965   -0.53  50.966545  58.333333  51.238739 -2.628019  28.854852   \n",
       "\n",
       "        willr         cci         adosc pct_change  \n",
       "33 -62.916667  -51.815589 -34929.474436          0  \n",
       "34 -54.137931  -66.848444 -28110.421528          0  \n",
       "35 -62.500000 -118.913121 -22195.957820          1  \n",
       "36 -42.117117  -79.844337 -15927.256282          1  \n",
       "37 -41.666667  -48.740930 -10018.950677          0  "
      ]
     },
     "execution_count": 65,
     "metadata": {},
     "output_type": "execute_result"
    }
   ],
   "source": [
    "stocks_indicators['ACPL'].head()"
   ]
  },
  {
   "cell_type": "code",
   "execution_count": 66,
   "metadata": {},
   "outputs": [
    {
     "data": {
      "text/html": [
       "<div>\n",
       "<style scoped>\n",
       "    .dataframe tbody tr th:only-of-type {\n",
       "        vertical-align: middle;\n",
       "    }\n",
       "\n",
       "    .dataframe tbody tr th {\n",
       "        vertical-align: top;\n",
       "    }\n",
       "\n",
       "    .dataframe thead th {\n",
       "        text-align: right;\n",
       "    }\n",
       "</style>\n",
       "<table border=\"1\" class=\"dataframe\">\n",
       "  <thead>\n",
       "    <tr style=\"text-align: right;\">\n",
       "      <th></th>\n",
       "      <th>sma_10</th>\n",
       "      <th>mom_10</th>\n",
       "      <th>wma_10</th>\n",
       "      <th>fastk</th>\n",
       "      <th>fastd</th>\n",
       "      <th>macd</th>\n",
       "      <th>rsi</th>\n",
       "      <th>willr</th>\n",
       "      <th>cci</th>\n",
       "      <th>adosc</th>\n",
       "      <th>pct_change</th>\n",
       "    </tr>\n",
       "  </thead>\n",
       "  <tbody>\n",
       "    <tr>\n",
       "      <th>33</th>\n",
       "      <td>6.942</td>\n",
       "      <td>-0.25</td>\n",
       "      <td>6.905273</td>\n",
       "      <td>41.176471</td>\n",
       "      <td>33.137255</td>\n",
       "      <td>-0.087021</td>\n",
       "      <td>49.220609</td>\n",
       "      <td>-58.823529</td>\n",
       "      <td>-26.791277</td>\n",
       "      <td>-27828.273557</td>\n",
       "      <td>0</td>\n",
       "    </tr>\n",
       "    <tr>\n",
       "      <th>34</th>\n",
       "      <td>6.942</td>\n",
       "      <td>0.00</td>\n",
       "      <td>6.915818</td>\n",
       "      <td>41.176471</td>\n",
       "      <td>36.274510</td>\n",
       "      <td>-0.077496</td>\n",
       "      <td>49.220609</td>\n",
       "      <td>-58.823529</td>\n",
       "      <td>35.979077</td>\n",
       "      <td>-23867.692585</td>\n",
       "      <td>0</td>\n",
       "    </tr>\n",
       "    <tr>\n",
       "      <th>35</th>\n",
       "      <td>6.942</td>\n",
       "      <td>0.00</td>\n",
       "      <td>6.926364</td>\n",
       "      <td>41.176471</td>\n",
       "      <td>41.176471</td>\n",
       "      <td>-0.069150</td>\n",
       "      <td>49.220609</td>\n",
       "      <td>-58.823529</td>\n",
       "      <td>-52.383333</td>\n",
       "      <td>-20076.710134</td>\n",
       "      <td>0</td>\n",
       "    </tr>\n",
       "    <tr>\n",
       "      <th>36</th>\n",
       "      <td>6.942</td>\n",
       "      <td>0.00</td>\n",
       "      <td>6.936909</td>\n",
       "      <td>41.176471</td>\n",
       "      <td>41.176471</td>\n",
       "      <td>-0.061823</td>\n",
       "      <td>49.220609</td>\n",
       "      <td>-58.823529</td>\n",
       "      <td>-13.053613</td>\n",
       "      <td>-16700.698210</td>\n",
       "      <td>0</td>\n",
       "    </tr>\n",
       "    <tr>\n",
       "      <th>37</th>\n",
       "      <td>6.878</td>\n",
       "      <td>-0.64</td>\n",
       "      <td>6.929273</td>\n",
       "      <td>35.294118</td>\n",
       "      <td>39.215686</td>\n",
       "      <td>-0.063355</td>\n",
       "      <td>47.250913</td>\n",
       "      <td>-64.705882</td>\n",
       "      <td>-0.416419</td>\n",
       "      <td>-14159.629859</td>\n",
       "      <td>1</td>\n",
       "    </tr>\n",
       "  </tbody>\n",
       "</table>\n",
       "</div>"
      ],
      "text/plain": [
       "    sma_10  mom_10    wma_10      fastk      fastd      macd        rsi  \\\n",
       "33   6.942   -0.25  6.905273  41.176471  33.137255 -0.087021  49.220609   \n",
       "34   6.942    0.00  6.915818  41.176471  36.274510 -0.077496  49.220609   \n",
       "35   6.942    0.00  6.926364  41.176471  41.176471 -0.069150  49.220609   \n",
       "36   6.942    0.00  6.936909  41.176471  41.176471 -0.061823  49.220609   \n",
       "37   6.878   -0.64  6.929273  35.294118  39.215686 -0.063355  47.250913   \n",
       "\n",
       "        willr        cci         adosc pct_change  \n",
       "33 -58.823529 -26.791277 -27828.273557          0  \n",
       "34 -58.823529  35.979077 -23867.692585          0  \n",
       "35 -58.823529 -52.383333 -20076.710134          0  \n",
       "36 -58.823529 -13.053613 -16700.698210          0  \n",
       "37 -64.705882  -0.416419 -14159.629859          1  "
      ]
     },
     "execution_count": 66,
     "metadata": {},
     "output_type": "execute_result"
    }
   ],
   "source": [
    "stocks_indicators['FECTC'].head()"
   ]
  },
  {
   "cell_type": "code",
   "execution_count": 67,
   "metadata": {},
   "outputs": [
    {
     "data": {
      "text/html": [
       "<div>\n",
       "<style scoped>\n",
       "    .dataframe tbody tr th:only-of-type {\n",
       "        vertical-align: middle;\n",
       "    }\n",
       "\n",
       "    .dataframe tbody tr th {\n",
       "        vertical-align: top;\n",
       "    }\n",
       "\n",
       "    .dataframe thead th {\n",
       "        text-align: right;\n",
       "    }\n",
       "</style>\n",
       "<table border=\"1\" class=\"dataframe\">\n",
       "  <thead>\n",
       "    <tr style=\"text-align: right;\">\n",
       "      <th></th>\n",
       "      <th>sma_10</th>\n",
       "      <th>mom_10</th>\n",
       "      <th>wma_10</th>\n",
       "      <th>fastk</th>\n",
       "      <th>fastd</th>\n",
       "      <th>macd</th>\n",
       "      <th>rsi</th>\n",
       "      <th>willr</th>\n",
       "      <th>cci</th>\n",
       "      <th>adosc</th>\n",
       "      <th>pct_change</th>\n",
       "    </tr>\n",
       "  </thead>\n",
       "  <tbody>\n",
       "    <tr>\n",
       "      <th>33</th>\n",
       "      <td>69.384</td>\n",
       "      <td>-3.89</td>\n",
       "      <td>68.612727</td>\n",
       "      <td>17.513514</td>\n",
       "      <td>20.504505</td>\n",
       "      <td>-2.035539</td>\n",
       "      <td>37.075423</td>\n",
       "      <td>-82.486486</td>\n",
       "      <td>-108.853639</td>\n",
       "      <td>-2.597303e+05</td>\n",
       "      <td>0</td>\n",
       "    </tr>\n",
       "    <tr>\n",
       "      <th>34</th>\n",
       "      <td>68.981</td>\n",
       "      <td>-4.03</td>\n",
       "      <td>68.246545</td>\n",
       "      <td>22.276423</td>\n",
       "      <td>16.975024</td>\n",
       "      <td>-2.045752</td>\n",
       "      <td>36.330196</td>\n",
       "      <td>-77.723577</td>\n",
       "      <td>-110.882252</td>\n",
       "      <td>-2.308807e+05</td>\n",
       "      <td>0</td>\n",
       "    </tr>\n",
       "    <tr>\n",
       "      <th>35</th>\n",
       "      <td>68.416</td>\n",
       "      <td>-5.65</td>\n",
       "      <td>67.706364</td>\n",
       "      <td>2.922078</td>\n",
       "      <td>14.237338</td>\n",
       "      <td>-2.138929</td>\n",
       "      <td>32.502777</td>\n",
       "      <td>-97.077922</td>\n",
       "      <td>-127.845584</td>\n",
       "      <td>-5.563232e+05</td>\n",
       "      <td>0</td>\n",
       "    </tr>\n",
       "    <tr>\n",
       "      <th>36</th>\n",
       "      <td>67.737</td>\n",
       "      <td>-6.79</td>\n",
       "      <td>67.012545</td>\n",
       "      <td>11.390887</td>\n",
       "      <td>12.196463</td>\n",
       "      <td>-2.300035</td>\n",
       "      <td>29.081980</td>\n",
       "      <td>-88.609113</td>\n",
       "      <td>-150.562830</td>\n",
       "      <td>-7.656270e+05</td>\n",
       "      <td>0</td>\n",
       "    </tr>\n",
       "    <tr>\n",
       "      <th>37</th>\n",
       "      <td>66.985</td>\n",
       "      <td>-7.52</td>\n",
       "      <td>66.178545</td>\n",
       "      <td>3.598691</td>\n",
       "      <td>5.970552</td>\n",
       "      <td>-2.515716</td>\n",
       "      <td>26.046110</td>\n",
       "      <td>-96.401309</td>\n",
       "      <td>-166.004806</td>\n",
       "      <td>-1.146300e+06</td>\n",
       "      <td>0</td>\n",
       "    </tr>\n",
       "  </tbody>\n",
       "</table>\n",
       "</div>"
      ],
      "text/plain": [
       "    sma_10  mom_10     wma_10      fastk      fastd      macd        rsi  \\\n",
       "33  69.384   -3.89  68.612727  17.513514  20.504505 -2.035539  37.075423   \n",
       "34  68.981   -4.03  68.246545  22.276423  16.975024 -2.045752  36.330196   \n",
       "35  68.416   -5.65  67.706364   2.922078  14.237338 -2.138929  32.502777   \n",
       "36  67.737   -6.79  67.012545  11.390887  12.196463 -2.300035  29.081980   \n",
       "37  66.985   -7.52  66.178545   3.598691   5.970552 -2.515716  26.046110   \n",
       "\n",
       "        willr         cci         adosc pct_change  \n",
       "33 -82.486486 -108.853639 -2.597303e+05          0  \n",
       "34 -77.723577 -110.882252 -2.308807e+05          0  \n",
       "35 -97.077922 -127.845584 -5.563232e+05          0  \n",
       "36 -88.609113 -150.562830 -7.656270e+05          0  \n",
       "37 -96.401309 -166.004806 -1.146300e+06          0  "
      ]
     },
     "execution_count": 67,
     "metadata": {},
     "output_type": "execute_result"
    }
   ],
   "source": [
    "stocks_indicators['LUCK'].head()"
   ]
  },
  {
   "cell_type": "markdown",
   "metadata": {},
   "source": [
    "## Calculation of weight table to depict increase and decrease in Stock Points "
   ]
  },
  {
   "cell_type": "code",
   "execution_count": 90,
   "metadata": {},
   "outputs": [],
   "source": [
    "def weighs_table(stocks, period):\n",
    "    stocks_table = pd.DataFrame()\n",
    "    indices_table = pd.DataFrame()\n",
    "    for j in stocks:\n",
    "        weighs_1 = []\n",
    "        for i in range(1,period+1):\n",
    "            stocks_indicators = get_stocks_indicators(stocks, i)\n",
    "            weighs_1.append((len(stocks_indicators[j][stocks_indicators[j]['pct_change']=='1'])/\\\n",
    "                            float(len(stocks_indicators[j])))*100)\n",
    "        stocks_table = pd.concat([stocks_table, pd.DataFrame(weighs_1)], axis=1)\n",
    "    return stocks_table"
   ]
  },
  {
   "cell_type": "code",
   "execution_count": 93,
   "metadata": {},
   "outputs": [],
   "source": [
    "stocks_table = weighs_table(stocks, 20)"
   ]
  },
  {
   "cell_type": "code",
   "execution_count": 92,
   "metadata": {},
   "outputs": [
    {
     "data": {
      "text/plain": [
       "[<matplotlib.lines.Line2D at 0x242ed141280>,\n",
       " <matplotlib.lines.Line2D at 0x242ed141340>,\n",
       " <matplotlib.lines.Line2D at 0x242ed141400>]"
      ]
     },
     "execution_count": 92,
     "metadata": {},
     "output_type": "execute_result"
    },
    {
     "data": {
      "image/png": "[encoded data removed]",
      "text/plain": [
       "<Figure size 432x288 with 1 Axes>"
      ]
     },
     "metadata": {
      "needs_background": "light"
     },
     "output_type": "display_data"
    }
   ],
   "source": [
    "plt.plot(stocks_table)"
   ]
  },
  {
   "cell_type": "code",
   "execution_count": null,
   "metadata": {},
   "outputs": [],
   "source": []
  },
  {
   "cell_type": "markdown",
   "metadata": {},
   "source": [
    "# Implementation of Random Forest Classifier Algorithm"
   ]
  },
  {
   "cell_type": "code",
   "execution_count": 73,
   "metadata": {},
   "outputs": [],
   "source": [
    "def avg_score(x_train, y_train,x_test,y_test,trees):\n",
    "    accuracy = []\n",
    "    f1 = []\n",
    "    rf_model = RandomForestClassifier(trees)\n",
    "    for i in range(5):\n",
    "        rf_model.fit(x_train,y_train)\n",
    "        accuracy.append(rf_model.score(x_test,y_test))\n",
    "        f1.append(f1_score(y_test,rf_model.predict(x_test), pos_label='1'))\n",
    "    avg_accuracy = sum(accuracy)/len(accuracy)\n",
    "    avg_f1 = sum(f1)/len(f1)\n",
    "    return avg_accuracy, avg_f1"
   ]
  },
  {
   "cell_type": "markdown",
   "metadata": {},
   "source": [
    "## Using Random Forest Algorithm for prediction of stock and stock price movement "
   ]
  },
  {
   "cell_type": "code",
   "execution_count": 62,
   "metadata": {},
   "outputs": [],
   "source": [
    "def stocks_accuracy(stocks, trees, period):\n",
    "    table_accuracy = pd.DataFrame()\n",
    "    table_f1 = pd.DataFrame()\n",
    "    for j in stocks:\n",
    "        accuracy_values = []\n",
    "        f1_values = []\n",
    "        for i in range(1,period+1):\n",
    "            stocks_indicators = get_stocks_indicators(stocks, i)\n",
    "            train, test = train_test_split(stocks_indicators[j])\n",
    "            accuracy, f1 = avg_score(train.iloc[:,:-1],train.iloc[:,-1],test.iloc[:,:-1],test.iloc[:,-1],trees)\n",
    "            accuracy_values.append(accuracy)\n",
    "            f1_values.append(f1)\n",
    "        table_accuracy = pd.concat([table_accuracy, pd.DataFrame({j : accuracy_values})], axis=1)\n",
    "        table_f1 = pd.concat([table_f1, pd.DataFrame({j : f1_values})], axis=1)\n",
    "    table_accuracy.index = range(1,period+1)\n",
    "    table_f1.index = range(1,period+1)\n",
    "    return table_accuracy, table_f1\n",
    "\n",
    "def indices_accuracy(indices, trees, period):\n",
    "    table_accuracy = pd.DataFrame()\n",
    "    table_f1 = pd.DataFrame()\n",
    "    for j in indices:\n",
    "        accuracy_values = []\n",
    "        f1_values = []\n",
    "        for i in range(1,period+1):\n",
    "            indices_indicators = get_indices_indicators(indices, i)\n",
    "            train, test = train_test_split(indices_indicators[j])\n",
    "            accuracy, f1 = avg_score(train.iloc[:,:-1],train.iloc[:,-1],test.iloc[:,:-1],test.iloc[:,-1],trees)\n",
    "            accuracy_values.append(accuracy)\n",
    "            f1_values.append(f1)\n",
    "        table_accuracy = pd.concat([table_accuracy, pd.DataFrame({j : accuracy_values})], axis=1)\n",
    "        table_f1 = pd.concat([table_f1, pd.DataFrame({j : f1_values})], axis=1)\n",
    "    table_accuracy.index = range(1,period+1)\n",
    "    table_f1.index = range(1,period+1)\n",
    "    return table_accuracy, table_f1"
   ]
  },
  {
   "cell_type": "code",
   "execution_count": 63,
   "metadata": {},
   "outputs": [],
   "source": [
    "stocks_accuracy_table, stocks_f1_table = stocks_accuracy(stocks, 300, 20)"
   ]
  },
  {
   "cell_type": "code",
   "execution_count": 64,
   "metadata": {},
   "outputs": [],
   "source": [
    "indices_accuracy_table, indices_f1_table = indices_accuracy(indices, 500, 20)"
   ]
  },
  {
   "cell_type": "markdown",
   "metadata": {},
   "source": [
    "## Graphical Representation of Accuracy and F1 scores of the used algorithm "
   ]
  },
  {
   "cell_type": "code",
   "execution_count": 70,
   "metadata": {},
   "outputs": [
    {
     "data": {
      "text/plain": [
       "<Figure size 432x288 with 0 Axes>"
      ]
     },
     "metadata": {},
     "output_type": "display_data"
    }
   ],
   "source": [
    "fig = plt.figure()"
   ]
  },
  {
   "cell_type": "code",
   "execution_count": 71,
   "metadata": {},
   "outputs": [
    {
     "data": {
      "text/plain": [
       "Text(0, 0.5, 'Average Score')"
      ]
     },
     "execution_count": 71,
     "metadata": {},
     "output_type": "execute_result"
    },
    {
     "data": {
      "image/png": "[encoded data removed]",
      "text/plain": [
       "<Figure size 432x288 with 1 Axes>"
      ]
     },
     "metadata": {
      "needs_background": "light"
     },
     "output_type": "display_data"
    }
   ],
   "source": [
    "plt.plot(stocks_accuracy_table)\n",
    "fig.suptitle('Accuracy Scores', fontsize=20)\n",
    "plt.xlabel('Days Ahead', fontsize=18)\n",
    "plt.ylabel('Average Score', fontsize=16)"
   ]
  },
  {
   "cell_type": "code",
   "execution_count": 72,
   "metadata": {},
   "outputs": [
    {
     "data": {
      "text/plain": [
       "Text(0, 0.5, 'Average Score')"
      ]
     },
     "execution_count": 72,
     "metadata": {},
     "output_type": "execute_result"
    },
    {
     "data": {
      "image/png": "[encoded data removed]",
      "text/plain": [
       "<Figure size 432x288 with 1 Axes>"
      ]
     },
     "metadata": {
      "needs_background": "light"
     },
     "output_type": "display_data"
    }
   ],
   "source": [
    "plt.plot(indices_accuracy_table)\n",
    "fig.suptitle('Accuracy Scores', fontsize=20)\n",
    "plt.xlabel('Days Ahead', fontsize=18)\n",
    "plt.ylabel('Average Score', fontsize=16)"
   ]
  },
  {
   "cell_type": "code",
   "execution_count": 73,
   "metadata": {},
   "outputs": [
    {
     "data": {
      "text/plain": [
       "Text(0, 0.5, 'Average Score')"
      ]
     },
     "execution_count": 73,
     "metadata": {},
     "output_type": "execute_result"
    },
    {
     "data": {
      "image/png": "[encoded data removed]",
      "text/plain": [
       "<Figure size 432x288 with 1 Axes>"
      ]
     },
     "metadata": {
      "needs_background": "light"
     },
     "output_type": "display_data"
    }
   ],
   "source": [
    "plt.plot(stocks_f1_table)\n",
    "fig.suptitle('Accuracy Scores', fontsize=20)\n",
    "plt.xlabel('Days Ahead', fontsize=18)\n",
    "plt.ylabel('Average Score', fontsize=16)"
   ]
  },
  {
   "cell_type": "code",
   "execution_count": 74,
   "metadata": {},
   "outputs": [
    {
     "data": {
      "text/plain": [
       "Text(0, 0.5, 'Average Score')"
      ]
     },
     "execution_count": 74,
     "metadata": {},
     "output_type": "execute_result"
    },
    {
     "data": {
      "image/png": "[encoded data removed]",
      "text/plain": [
       "<Figure size 432x288 with 1 Axes>"
      ]
     },
     "metadata": {
      "needs_background": "light"
     },
     "output_type": "display_data"
    }
   ],
   "source": [
    "plt.plot(indices_f1_table)\n",
    "fig.suptitle('Accuracy Scores', fontsize=20)\n",
    "plt.xlabel('Days Ahead', fontsize=18)\n",
    "plt.ylabel('Average Score', fontsize=16)"
   ]
  },
  {
   "cell_type": "code",
   "execution_count": 75,
   "metadata": {},
   "outputs": [],
   "source": [
    "def highlight_max(s):\n",
    "    '''\n",
    "    highlight the maximum in a Series yellow.\n",
    "    '''\n",
    "    is_max = s == s.max()\n",
    "    return ['background-color: yellow' if v else '' for v in is_max]"
   ]
  },
  {
   "cell_type": "markdown",
   "metadata": {},
   "source": [
    "## Tabular Representation of our final calculated results "
   ]
  },
  {
   "cell_type": "code",
   "execution_count": 76,
   "metadata": {},
   "outputs": [
    {
     "data": {
      "text/html": [
       "<style  type=\"text/css\" >\n",
       "    #T_d33ce04c_07b7_11e9_b13a_74c63bbb3ca3row15_col2 {\n",
       "            background-color:  yellow;\n",
       "        }    #T_d33ce04c_07b7_11e9_b13a_74c63bbb3ca3row19_col0 {\n",
       "            background-color:  yellow;\n",
       "        }    #T_d33ce04c_07b7_11e9_b13a_74c63bbb3ca3row19_col1 {\n",
       "            background-color:  yellow;\n",
       "        }</style>  \n",
       "<table id=\"T_d33ce04c_07b7_11e9_b13a_74c63bbb3ca3\" > \n",
       "<thead>    <tr> \n",
       "        <th class=\"blank level0\" ></th> \n",
       "        <th class=\"col_heading level0 col0\" >AMZN</th> \n",
       "        <th class=\"col_heading level0 col1\" >GOOG</th> \n",
       "        <th class=\"col_heading level0 col2\" >AAPL</th> \n",
       "    </tr></thead> \n",
       "<tbody>    <tr> \n",
       "        <th id=\"T_d33ce04c_07b7_11e9_b13a_74c63bbb3ca3level0_row0\" class=\"row_heading level0 row0\" >1</th> \n",
       "        <td id=\"T_d33ce04c_07b7_11e9_b13a_74c63bbb3ca3row0_col0\" class=\"data row0 col0\" >0.486257</td> \n",
       "        <td id=\"T_d33ce04c_07b7_11e9_b13a_74c63bbb3ca3row0_col1\" class=\"data row0 col1\" >0.49883</td> \n",
       "        <td id=\"T_d33ce04c_07b7_11e9_b13a_74c63bbb3ca3row0_col2\" class=\"data row0 col2\" >0.511988</td> \n",
       "    </tr>    <tr> \n",
       "        <th id=\"T_d33ce04c_07b7_11e9_b13a_74c63bbb3ca3level0_row1\" class=\"row_heading level0 row1\" >2</th> \n",
       "        <td id=\"T_d33ce04c_07b7_11e9_b13a_74c63bbb3ca3row1_col0\" class=\"data row1 col0\" >0.611988</td> \n",
       "        <td id=\"T_d33ce04c_07b7_11e9_b13a_74c63bbb3ca3row1_col1\" class=\"data row1 col1\" >0.599708</td> \n",
       "        <td id=\"T_d33ce04c_07b7_11e9_b13a_74c63bbb3ca3row1_col2\" class=\"data row1 col2\" >0.626608</td> \n",
       "    </tr>    <tr> \n",
       "        <th id=\"T_d33ce04c_07b7_11e9_b13a_74c63bbb3ca3level0_row2\" class=\"row_heading level0 row2\" >3</th> \n",
       "        <td id=\"T_d33ce04c_07b7_11e9_b13a_74c63bbb3ca3row2_col0\" class=\"data row2 col0\" >0.648246</td> \n",
       "        <td id=\"T_d33ce04c_07b7_11e9_b13a_74c63bbb3ca3row2_col1\" class=\"data row2 col1\" >0.624269</td> \n",
       "        <td id=\"T_d33ce04c_07b7_11e9_b13a_74c63bbb3ca3row2_col2\" class=\"data row2 col2\" >0.642982</td> \n",
       "    </tr>    <tr> \n",
       "        <th id=\"T_d33ce04c_07b7_11e9_b13a_74c63bbb3ca3level0_row3\" class=\"row_heading level0 row3\" >4</th> \n",
       "        <td id=\"T_d33ce04c_07b7_11e9_b13a_74c63bbb3ca3row3_col0\" class=\"data row3 col0\" >0.689312</td> \n",
       "        <td id=\"T_d33ce04c_07b7_11e9_b13a_74c63bbb3ca3row3_col1\" class=\"data row3 col1\" >0.669107</td> \n",
       "        <td id=\"T_d33ce04c_07b7_11e9_b13a_74c63bbb3ca3row3_col2\" class=\"data row3 col2\" >0.702196</td> \n",
       "    </tr>    <tr> \n",
       "        <th id=\"T_d33ce04c_07b7_11e9_b13a_74c63bbb3ca3level0_row4\" class=\"row_heading level0 row4\" >5</th> \n",
       "        <td id=\"T_d33ce04c_07b7_11e9_b13a_74c63bbb3ca3row4_col0\" class=\"data row4 col0\" >0.706881</td> \n",
       "        <td id=\"T_d33ce04c_07b7_11e9_b13a_74c63bbb3ca3row4_col1\" class=\"data row4 col1\" >0.706296</td> \n",
       "        <td id=\"T_d33ce04c_07b7_11e9_b13a_74c63bbb3ca3row4_col2\" class=\"data row4 col2\" >0.718594</td> \n",
       "    </tr>    <tr> \n",
       "        <th id=\"T_d33ce04c_07b7_11e9_b13a_74c63bbb3ca3level0_row5\" class=\"row_heading level0 row5\" >6</th> \n",
       "        <td id=\"T_d33ce04c_07b7_11e9_b13a_74c63bbb3ca3row5_col0\" class=\"data row5 col0\" >0.725622</td> \n",
       "        <td id=\"T_d33ce04c_07b7_11e9_b13a_74c63bbb3ca3row5_col1\" class=\"data row5 col1\" >0.719766</td> \n",
       "        <td id=\"T_d33ce04c_07b7_11e9_b13a_74c63bbb3ca3row5_col2\" class=\"data row5 col2\" >0.732357</td> \n",
       "    </tr>    <tr> \n",
       "        <th id=\"T_d33ce04c_07b7_11e9_b13a_74c63bbb3ca3level0_row6\" class=\"row_heading level0 row6\" >7</th> \n",
       "        <td id=\"T_d33ce04c_07b7_11e9_b13a_74c63bbb3ca3row6_col0\" class=\"data row6 col0\" >0.744949</td> \n",
       "        <td id=\"T_d33ce04c_07b7_11e9_b13a_74c63bbb3ca3row6_col1\" class=\"data row6 col1\" >0.723865</td> \n",
       "        <td id=\"T_d33ce04c_07b7_11e9_b13a_74c63bbb3ca3row6_col2\" class=\"data row6 col2\" >0.721523</td> \n",
       "    </tr>    <tr> \n",
       "        <th id=\"T_d33ce04c_07b7_11e9_b13a_74c63bbb3ca3level0_row7\" class=\"row_heading level0 row7\" >8</th> \n",
       "        <td id=\"T_d33ce04c_07b7_11e9_b13a_74c63bbb3ca3row7_col0\" class=\"data row7 col0\" >0.717889</td> \n",
       "        <td id=\"T_d33ce04c_07b7_11e9_b13a_74c63bbb3ca3row7_col1\" class=\"data row7 col1\" >0.723167</td> \n",
       "        <td id=\"T_d33ce04c_07b7_11e9_b13a_74c63bbb3ca3row7_col2\" class=\"data row7 col2\" >0.726393</td> \n",
       "    </tr>    <tr> \n",
       "        <th id=\"T_d33ce04c_07b7_11e9_b13a_74c63bbb3ca3level0_row8\" class=\"row_heading level0 row8\" >9</th> \n",
       "        <td id=\"T_d33ce04c_07b7_11e9_b13a_74c63bbb3ca3row8_col0\" class=\"data row8 col0\" >0.761584</td> \n",
       "        <td id=\"T_d33ce04c_07b7_11e9_b13a_74c63bbb3ca3row8_col1\" class=\"data row8 col1\" >0.757478</td> \n",
       "        <td id=\"T_d33ce04c_07b7_11e9_b13a_74c63bbb3ca3row8_col2\" class=\"data row8 col2\" >0.758358</td> \n",
       "    </tr>    <tr> \n",
       "        <th id=\"T_d33ce04c_07b7_11e9_b13a_74c63bbb3ca3level0_row9\" class=\"row_heading level0 row9\" >10</th> \n",
       "        <td id=\"T_d33ce04c_07b7_11e9_b13a_74c63bbb3ca3row9_col0\" class=\"data row9 col0\" >0.751613</td> \n",
       "        <td id=\"T_d33ce04c_07b7_11e9_b13a_74c63bbb3ca3row9_col1\" class=\"data row9 col1\" >0.752493</td> \n",
       "        <td id=\"T_d33ce04c_07b7_11e9_b13a_74c63bbb3ca3row9_col2\" class=\"data row9 col2\" >0.788563</td> \n",
       "    </tr>    <tr> \n",
       "        <th id=\"T_d33ce04c_07b7_11e9_b13a_74c63bbb3ca3level0_row10\" class=\"row_heading level0 row10\" >11</th> \n",
       "        <td id=\"T_d33ce04c_07b7_11e9_b13a_74c63bbb3ca3row10_col0\" class=\"data row10 col0\" >0.764516</td> \n",
       "        <td id=\"T_d33ce04c_07b7_11e9_b13a_74c63bbb3ca3row10_col1\" class=\"data row10 col1\" >0.758065</td> \n",
       "        <td id=\"T_d33ce04c_07b7_11e9_b13a_74c63bbb3ca3row10_col2\" class=\"data row10 col2\" >0.80088</td> \n",
       "    </tr>    <tr> \n",
       "        <th id=\"T_d33ce04c_07b7_11e9_b13a_74c63bbb3ca3level0_row11\" class=\"row_heading level0 row11\" >12</th> \n",
       "        <td id=\"T_d33ce04c_07b7_11e9_b13a_74c63bbb3ca3row11_col0\" class=\"data row11 col0\" >0.768576</td> \n",
       "        <td id=\"T_d33ce04c_07b7_11e9_b13a_74c63bbb3ca3row11_col1\" class=\"data row11 col1\" >0.781204</td> \n",
       "        <td id=\"T_d33ce04c_07b7_11e9_b13a_74c63bbb3ca3row11_col2\" class=\"data row11 col2\" >0.774156</td> \n",
       "    </tr>    <tr> \n",
       "        <th id=\"T_d33ce04c_07b7_11e9_b13a_74c63bbb3ca3level0_row12\" class=\"row_heading level0 row12\" >13</th> \n",
       "        <td id=\"T_d33ce04c_07b7_11e9_b13a_74c63bbb3ca3row12_col0\" class=\"data row12 col0\" >0.791777</td> \n",
       "        <td id=\"T_d33ce04c_07b7_11e9_b13a_74c63bbb3ca3row12_col1\" class=\"data row12 col1\" >0.7442</td> \n",
       "        <td id=\"T_d33ce04c_07b7_11e9_b13a_74c63bbb3ca3row12_col2\" class=\"data row12 col2\" >0.80558</td> \n",
       "    </tr>    <tr> \n",
       "        <th id=\"T_d33ce04c_07b7_11e9_b13a_74c63bbb3ca3level0_row13\" class=\"row_heading level0 row13\" >14</th> \n",
       "        <td id=\"T_d33ce04c_07b7_11e9_b13a_74c63bbb3ca3row13_col0\" class=\"data row13 col0\" >0.800881</td> \n",
       "        <td id=\"T_d33ce04c_07b7_11e9_b13a_74c63bbb3ca3row13_col1\" class=\"data row13 col1\" >0.790308</td> \n",
       "        <td id=\"T_d33ce04c_07b7_11e9_b13a_74c63bbb3ca3row13_col2\" class=\"data row13 col2\" >0.812922</td> \n",
       "    </tr>    <tr> \n",
       "        <th id=\"T_d33ce04c_07b7_11e9_b13a_74c63bbb3ca3level0_row14\" class=\"row_heading level0 row14\" >15</th> \n",
       "        <td id=\"T_d33ce04c_07b7_11e9_b13a_74c63bbb3ca3row14_col0\" class=\"data row14 col0\" >0.809692</td> \n",
       "        <td id=\"T_d33ce04c_07b7_11e9_b13a_74c63bbb3ca3row14_col1\" class=\"data row14 col1\" >0.786784</td> \n",
       "        <td id=\"T_d33ce04c_07b7_11e9_b13a_74c63bbb3ca3row14_col2\" class=\"data row14 col2\" >0.804112</td> \n",
       "    </tr>    <tr> \n",
       "        <th id=\"T_d33ce04c_07b7_11e9_b13a_74c63bbb3ca3level0_row15\" class=\"row_heading level0 row15\" >16</th> \n",
       "        <td id=\"T_d33ce04c_07b7_11e9_b13a_74c63bbb3ca3row15_col0\" class=\"data row15 col0\" >0.807647</td> \n",
       "        <td id=\"T_d33ce04c_07b7_11e9_b13a_74c63bbb3ca3row15_col1\" class=\"data row15 col1\" >0.789706</td> \n",
       "        <td id=\"T_d33ce04c_07b7_11e9_b13a_74c63bbb3ca3row15_col2\" class=\"data row15 col2\" >0.830588</td> \n",
       "    </tr>    <tr> \n",
       "        <th id=\"T_d33ce04c_07b7_11e9_b13a_74c63bbb3ca3level0_row16\" class=\"row_heading level0 row16\" >17</th> \n",
       "        <td id=\"T_d33ce04c_07b7_11e9_b13a_74c63bbb3ca3row16_col0\" class=\"data row16 col0\" >0.794706</td> \n",
       "        <td id=\"T_d33ce04c_07b7_11e9_b13a_74c63bbb3ca3row16_col1\" class=\"data row16 col1\" >0.755882</td> \n",
       "        <td id=\"T_d33ce04c_07b7_11e9_b13a_74c63bbb3ca3row16_col2\" class=\"data row16 col2\" >0.823529</td> \n",
       "    </tr>    <tr> \n",
       "        <th id=\"T_d33ce04c_07b7_11e9_b13a_74c63bbb3ca3level0_row17\" class=\"row_heading level0 row17\" >18</th> \n",
       "        <td id=\"T_d33ce04c_07b7_11e9_b13a_74c63bbb3ca3row17_col0\" class=\"data row17 col0\" >0.808824</td> \n",
       "        <td id=\"T_d33ce04c_07b7_11e9_b13a_74c63bbb3ca3row17_col1\" class=\"data row17 col1\" >0.805588</td> \n",
       "        <td id=\"T_d33ce04c_07b7_11e9_b13a_74c63bbb3ca3row17_col2\" class=\"data row17 col2\" >0.817941</td> \n",
       "    </tr>    <tr> \n",
       "        <th id=\"T_d33ce04c_07b7_11e9_b13a_74c63bbb3ca3level0_row18\" class=\"row_heading level0 row18\" >19</th> \n",
       "        <td id=\"T_d33ce04c_07b7_11e9_b13a_74c63bbb3ca3row18_col0\" class=\"data row18 col0\" >0.800588</td> \n",
       "        <td id=\"T_d33ce04c_07b7_11e9_b13a_74c63bbb3ca3row18_col1\" class=\"data row18 col1\" >0.806765</td> \n",
       "        <td id=\"T_d33ce04c_07b7_11e9_b13a_74c63bbb3ca3row18_col2\" class=\"data row18 col2\" >0.807941</td> \n",
       "    </tr>    <tr> \n",
       "        <th id=\"T_d33ce04c_07b7_11e9_b13a_74c63bbb3ca3level0_row19\" class=\"row_heading level0 row19\" >20</th> \n",
       "        <td id=\"T_d33ce04c_07b7_11e9_b13a_74c63bbb3ca3row19_col0\" class=\"data row19 col0\" >0.835346</td> \n",
       "        <td id=\"T_d33ce04c_07b7_11e9_b13a_74c63bbb3ca3row19_col1\" class=\"data row19 col1\" >0.807069</td> \n",
       "        <td id=\"T_d33ce04c_07b7_11e9_b13a_74c63bbb3ca3row19_col2\" class=\"data row19 col2\" >0.790869</td> \n",
       "    </tr></tbody> \n",
       "</table> "
      ],
      "text/plain": [
       "<pandas.io.formats.style.Styler at 0x7f7a0d345a58>"
      ]
     },
     "execution_count": 76,
     "metadata": {},
     "output_type": "execute_result"
    }
   ],
   "source": [
    "stocks_accuracy_table.style.apply(highlight_max, axis=0)"
   ]
  },
  {
   "cell_type": "code",
   "execution_count": 77,
   "metadata": {},
   "outputs": [
    {
     "data": {
      "text/html": [
       "<style  type=\"text/css\" >\n",
       "    #T_dbf9a670_07b7_11e9_b13a_74c63bbb3ca3row18_col0 {\n",
       "            background-color:  yellow;\n",
       "        }    #T_dbf9a670_07b7_11e9_b13a_74c63bbb3ca3row18_col1 {\n",
       "            background-color:  yellow;\n",
       "        }    #T_dbf9a670_07b7_11e9_b13a_74c63bbb3ca3row19_col2 {\n",
       "            background-color:  yellow;\n",
       "        }</style>  \n",
       "<table id=\"T_dbf9a670_07b7_11e9_b13a_74c63bbb3ca3\" > \n",
       "<thead>    <tr> \n",
       "        <th class=\"blank level0\" ></th> \n",
       "        <th class=\"col_heading level0 col0\" >GSPC</th> \n",
       "        <th class=\"col_heading level0 col1\" >DJI</th> \n",
       "        <th class=\"col_heading level0 col2\" >NDX</th> \n",
       "    </tr></thead> \n",
       "<tbody>    <tr> \n",
       "        <th id=\"T_dbf9a670_07b7_11e9_b13a_74c63bbb3ca3level0_row0\" class=\"row_heading level0 row0\" >1</th> \n",
       "        <td id=\"T_dbf9a670_07b7_11e9_b13a_74c63bbb3ca3row0_col0\" class=\"data row0 col0\" >0.525731</td> \n",
       "        <td id=\"T_dbf9a670_07b7_11e9_b13a_74c63bbb3ca3row0_col1\" class=\"data row0 col1\" >0.496491</td> \n",
       "        <td id=\"T_dbf9a670_07b7_11e9_b13a_74c63bbb3ca3row0_col2\" class=\"data row0 col2\" >0.545614</td> \n",
       "    </tr>    <tr> \n",
       "        <th id=\"T_dbf9a670_07b7_11e9_b13a_74c63bbb3ca3level0_row1\" class=\"row_heading level0 row1\" >2</th> \n",
       "        <td id=\"T_dbf9a670_07b7_11e9_b13a_74c63bbb3ca3row1_col0\" class=\"data row1 col0\" >0.595322</td> \n",
       "        <td id=\"T_dbf9a670_07b7_11e9_b13a_74c63bbb3ca3row1_col1\" class=\"data row1 col1\" >0.588012</td> \n",
       "        <td id=\"T_dbf9a670_07b7_11e9_b13a_74c63bbb3ca3row1_col2\" class=\"data row1 col2\" >0.611111</td> \n",
       "    </tr>    <tr> \n",
       "        <th id=\"T_dbf9a670_07b7_11e9_b13a_74c63bbb3ca3level0_row2\" class=\"row_heading level0 row2\" >3</th> \n",
       "        <td id=\"T_dbf9a670_07b7_11e9_b13a_74c63bbb3ca3row2_col0\" class=\"data row2 col0\" >0.645029</td> \n",
       "        <td id=\"T_dbf9a670_07b7_11e9_b13a_74c63bbb3ca3row2_col1\" class=\"data row2 col1\" >0.624561</td> \n",
       "        <td id=\"T_dbf9a670_07b7_11e9_b13a_74c63bbb3ca3row2_col2\" class=\"data row2 col2\" >0.647076</td> \n",
       "    </tr>    <tr> \n",
       "        <th id=\"T_dbf9a670_07b7_11e9_b13a_74c63bbb3ca3level0_row3\" class=\"row_heading level0 row3\" >4</th> \n",
       "        <td id=\"T_dbf9a670_07b7_11e9_b13a_74c63bbb3ca3row3_col0\" class=\"data row3 col0\" >0.691947</td> \n",
       "        <td id=\"T_dbf9a670_07b7_11e9_b13a_74c63bbb3ca3row3_col1\" class=\"data row3 col1\" >0.687262</td> \n",
       "        <td id=\"T_dbf9a670_07b7_11e9_b13a_74c63bbb3ca3row3_col2\" class=\"data row3 col2\" >0.65798</td> \n",
       "    </tr>    <tr> \n",
       "        <th id=\"T_dbf9a670_07b7_11e9_b13a_74c63bbb3ca3level0_row4\" class=\"row_heading level0 row4\" >5</th> \n",
       "        <td id=\"T_dbf9a670_07b7_11e9_b13a_74c63bbb3ca3row4_col0\" class=\"data row4 col0\" >0.637775</td> \n",
       "        <td id=\"T_dbf9a670_07b7_11e9_b13a_74c63bbb3ca3row4_col1\" class=\"data row4 col1\" >0.701611</td> \n",
       "        <td id=\"T_dbf9a670_07b7_11e9_b13a_74c63bbb3ca3row4_col2\" class=\"data row4 col2\" >0.69224</td> \n",
       "    </tr>    <tr> \n",
       "        <th id=\"T_dbf9a670_07b7_11e9_b13a_74c63bbb3ca3level0_row5\" class=\"row_heading level0 row5\" >6</th> \n",
       "        <td id=\"T_dbf9a670_07b7_11e9_b13a_74c63bbb3ca3row5_col0\" class=\"data row5 col0\" >0.664129</td> \n",
       "        <td id=\"T_dbf9a670_07b7_11e9_b13a_74c63bbb3ca3row5_col1\" class=\"data row5 col1\" >0.69634</td> \n",
       "        <td id=\"T_dbf9a670_07b7_11e9_b13a_74c63bbb3ca3row5_col2\" class=\"data row5 col2\" >0.688141</td> \n",
       "    </tr>    <tr> \n",
       "        <th id=\"T_dbf9a670_07b7_11e9_b13a_74c63bbb3ca3level0_row6\" class=\"row_heading level0 row6\" >7</th> \n",
       "        <td id=\"T_dbf9a670_07b7_11e9_b13a_74c63bbb3ca3row6_col0\" class=\"data row6 col0\" >0.713031</td> \n",
       "        <td id=\"T_dbf9a670_07b7_11e9_b13a_74c63bbb3ca3row6_col1\" class=\"data row6 col1\" >0.746706</td> \n",
       "        <td id=\"T_dbf9a670_07b7_11e9_b13a_74c63bbb3ca3row6_col2\" class=\"data row6 col2\" >0.738214</td> \n",
       "    </tr>    <tr> \n",
       "        <th id=\"T_dbf9a670_07b7_11e9_b13a_74c63bbb3ca3level0_row7\" class=\"row_heading level0 row7\" >8</th> \n",
       "        <td id=\"T_dbf9a670_07b7_11e9_b13a_74c63bbb3ca3row7_col0\" class=\"data row7 col0\" >0.717889</td> \n",
       "        <td id=\"T_dbf9a670_07b7_11e9_b13a_74c63bbb3ca3row7_col1\" class=\"data row7 col1\" >0.744868</td> \n",
       "        <td id=\"T_dbf9a670_07b7_11e9_b13a_74c63bbb3ca3row7_col2\" class=\"data row7 col2\" >0.766569</td> \n",
       "    </tr>    <tr> \n",
       "        <th id=\"T_dbf9a670_07b7_11e9_b13a_74c63bbb3ca3level0_row8\" class=\"row_heading level0 row8\" >9</th> \n",
       "        <td id=\"T_dbf9a670_07b7_11e9_b13a_74c63bbb3ca3row8_col0\" class=\"data row8 col0\" >0.731672</td> \n",
       "        <td id=\"T_dbf9a670_07b7_11e9_b13a_74c63bbb3ca3row8_col1\" class=\"data row8 col1\" >0.727566</td> \n",
       "        <td id=\"T_dbf9a670_07b7_11e9_b13a_74c63bbb3ca3row8_col2\" class=\"data row8 col2\" >0.731085</td> \n",
       "    </tr>    <tr> \n",
       "        <th id=\"T_dbf9a670_07b7_11e9_b13a_74c63bbb3ca3level0_row9\" class=\"row_heading level0 row9\" >10</th> \n",
       "        <td id=\"T_dbf9a670_07b7_11e9_b13a_74c63bbb3ca3row9_col0\" class=\"data row9 col0\" >0.750147</td> \n",
       "        <td id=\"T_dbf9a670_07b7_11e9_b13a_74c63bbb3ca3row9_col1\" class=\"data row9 col1\" >0.755718</td> \n",
       "        <td id=\"T_dbf9a670_07b7_11e9_b13a_74c63bbb3ca3row9_col2\" class=\"data row9 col2\" >0.764809</td> \n",
       "    </tr>    <tr> \n",
       "        <th id=\"T_dbf9a670_07b7_11e9_b13a_74c63bbb3ca3level0_row10\" class=\"row_heading level0 row10\" >11</th> \n",
       "        <td id=\"T_dbf9a670_07b7_11e9_b13a_74c63bbb3ca3row10_col0\" class=\"data row10 col0\" >0.717595</td> \n",
       "        <td id=\"T_dbf9a670_07b7_11e9_b13a_74c63bbb3ca3row10_col1\" class=\"data row10 col1\" >0.755718</td> \n",
       "        <td id=\"T_dbf9a670_07b7_11e9_b13a_74c63bbb3ca3row10_col2\" class=\"data row10 col2\" >0.778299</td> \n",
       "    </tr>    <tr> \n",
       "        <th id=\"T_dbf9a670_07b7_11e9_b13a_74c63bbb3ca3level0_row11\" class=\"row_heading level0 row11\" >12</th> \n",
       "        <td id=\"T_dbf9a670_07b7_11e9_b13a_74c63bbb3ca3row11_col0\" class=\"data row11 col0\" >0.71953</td> \n",
       "        <td id=\"T_dbf9a670_07b7_11e9_b13a_74c63bbb3ca3row11_col1\" class=\"data row11 col1\" >0.749192</td> \n",
       "        <td id=\"T_dbf9a670_07b7_11e9_b13a_74c63bbb3ca3row11_col2\" class=\"data row11 col2\" >0.788253</td> \n",
       "    </tr>    <tr> \n",
       "        <th id=\"T_dbf9a670_07b7_11e9_b13a_74c63bbb3ca3level0_row12\" class=\"row_heading level0 row12\" >13</th> \n",
       "        <td id=\"T_dbf9a670_07b7_11e9_b13a_74c63bbb3ca3row12_col0\" class=\"data row12 col0\" >0.761821</td> \n",
       "        <td id=\"T_dbf9a670_07b7_11e9_b13a_74c63bbb3ca3row12_col1\" class=\"data row12 col1\" >0.775037</td> \n",
       "        <td id=\"T_dbf9a670_07b7_11e9_b13a_74c63bbb3ca3row12_col2\" class=\"data row12 col2\" >0.821439</td> \n",
       "    </tr>    <tr> \n",
       "        <th id=\"T_dbf9a670_07b7_11e9_b13a_74c63bbb3ca3level0_row13\" class=\"row_heading level0 row13\" >14</th> \n",
       "        <td id=\"T_dbf9a670_07b7_11e9_b13a_74c63bbb3ca3row13_col0\" class=\"data row13 col0\" >0.742144</td> \n",
       "        <td id=\"T_dbf9a670_07b7_11e9_b13a_74c63bbb3ca3row13_col1\" class=\"data row13 col1\" >0.751836</td> \n",
       "        <td id=\"T_dbf9a670_07b7_11e9_b13a_74c63bbb3ca3row13_col2\" class=\"data row13 col2\" >0.796769</td> \n",
       "    </tr>    <tr> \n",
       "        <th id=\"T_dbf9a670_07b7_11e9_b13a_74c63bbb3ca3level0_row14\" class=\"row_heading level0 row14\" >15</th> \n",
       "        <td id=\"T_dbf9a670_07b7_11e9_b13a_74c63bbb3ca3row14_col0\" class=\"data row14 col0\" >0.774449</td> \n",
       "        <td id=\"T_dbf9a670_07b7_11e9_b13a_74c63bbb3ca3row14_col1\" class=\"data row14 col1\" >0.782673</td> \n",
       "        <td id=\"T_dbf9a670_07b7_11e9_b13a_74c63bbb3ca3row14_col2\" class=\"data row14 col2\" >0.78884</td> \n",
       "    </tr>    <tr> \n",
       "        <th id=\"T_dbf9a670_07b7_11e9_b13a_74c63bbb3ca3level0_row15\" class=\"row_heading level0 row15\" >16</th> \n",
       "        <td id=\"T_dbf9a670_07b7_11e9_b13a_74c63bbb3ca3row15_col0\" class=\"data row15 col0\" >0.785588</td> \n",
       "        <td id=\"T_dbf9a670_07b7_11e9_b13a_74c63bbb3ca3row15_col1\" class=\"data row15 col1\" >0.765882</td> \n",
       "        <td id=\"T_dbf9a670_07b7_11e9_b13a_74c63bbb3ca3row15_col2\" class=\"data row15 col2\" >0.820882</td> \n",
       "    </tr>    <tr> \n",
       "        <th id=\"T_dbf9a670_07b7_11e9_b13a_74c63bbb3ca3level0_row16\" class=\"row_heading level0 row16\" >17</th> \n",
       "        <td id=\"T_dbf9a670_07b7_11e9_b13a_74c63bbb3ca3row16_col0\" class=\"data row16 col0\" >0.775588</td> \n",
       "        <td id=\"T_dbf9a670_07b7_11e9_b13a_74c63bbb3ca3row16_col1\" class=\"data row16 col1\" >0.795588</td> \n",
       "        <td id=\"T_dbf9a670_07b7_11e9_b13a_74c63bbb3ca3row16_col2\" class=\"data row16 col2\" >0.820882</td> \n",
       "    </tr>    <tr> \n",
       "        <th id=\"T_dbf9a670_07b7_11e9_b13a_74c63bbb3ca3level0_row17\" class=\"row_heading level0 row17\" >18</th> \n",
       "        <td id=\"T_dbf9a670_07b7_11e9_b13a_74c63bbb3ca3row17_col0\" class=\"data row17 col0\" >0.774706</td> \n",
       "        <td id=\"T_dbf9a670_07b7_11e9_b13a_74c63bbb3ca3row17_col1\" class=\"data row17 col1\" >0.811765</td> \n",
       "        <td id=\"T_dbf9a670_07b7_11e9_b13a_74c63bbb3ca3row17_col2\" class=\"data row17 col2\" >0.769706</td> \n",
       "    </tr>    <tr> \n",
       "        <th id=\"T_dbf9a670_07b7_11e9_b13a_74c63bbb3ca3level0_row18\" class=\"row_heading level0 row18\" >19</th> \n",
       "        <td id=\"T_dbf9a670_07b7_11e9_b13a_74c63bbb3ca3row18_col0\" class=\"data row18 col0\" >0.801765</td> \n",
       "        <td id=\"T_dbf9a670_07b7_11e9_b13a_74c63bbb3ca3row18_col1\" class=\"data row18 col1\" >0.823529</td> \n",
       "        <td id=\"T_dbf9a670_07b7_11e9_b13a_74c63bbb3ca3row18_col2\" class=\"data row18 col2\" >0.806765</td> \n",
       "    </tr>    <tr> \n",
       "        <th id=\"T_dbf9a670_07b7_11e9_b13a_74c63bbb3ca3level0_row19\" class=\"row_heading level0 row19\" >20</th> \n",
       "        <td id=\"T_dbf9a670_07b7_11e9_b13a_74c63bbb3ca3row19_col0\" class=\"data row19 col0\" >0.766421</td> \n",
       "        <td id=\"T_dbf9a670_07b7_11e9_b13a_74c63bbb3ca3row19_col1\" class=\"data row19 col1\" >0.809426</td> \n",
       "        <td id=\"T_dbf9a670_07b7_11e9_b13a_74c63bbb3ca3row19_col2\" class=\"data row19 col2\" >0.854492</td> \n",
       "    </tr></tbody> \n",
       "</table> "
      ],
      "text/plain": [
       "<pandas.io.formats.style.Styler at 0x7f7a5421aac8>"
      ]
     },
     "execution_count": 77,
     "metadata": {},
     "output_type": "execute_result"
    }
   ],
   "source": [
    "indices_accuracy_table.style.apply(highlight_max, axis=0)"
   ]
  },
  {
   "cell_type": "code",
   "execution_count": 78,
   "metadata": {},
   "outputs": [
    {
     "data": {
      "text/html": [
       "<style  type=\"text/css\" >\n",
       "    #T_e2df710e_07b7_11e9_b13a_74c63bbb3ca3row15_col2 {\n",
       "            background-color:  yellow;\n",
       "        }    #T_e2df710e_07b7_11e9_b13a_74c63bbb3ca3row19_col0 {\n",
       "            background-color:  yellow;\n",
       "        }    #T_e2df710e_07b7_11e9_b13a_74c63bbb3ca3row19_col1 {\n",
       "            background-color:  yellow;\n",
       "        }</style>  \n",
       "<table id=\"T_e2df710e_07b7_11e9_b13a_74c63bbb3ca3\" > \n",
       "<thead>    <tr> \n",
       "        <th class=\"blank level0\" ></th> \n",
       "        <th class=\"col_heading level0 col0\" >AMZN</th> \n",
       "        <th class=\"col_heading level0 col1\" >GOOG</th> \n",
       "        <th class=\"col_heading level0 col2\" >AAPL</th> \n",
       "    </tr></thead> \n",
       "<tbody>    <tr> \n",
       "        <th id=\"T_e2df710e_07b7_11e9_b13a_74c63bbb3ca3level0_row0\" class=\"row_heading level0 row0\" >1</th> \n",
       "        <td id=\"T_e2df710e_07b7_11e9_b13a_74c63bbb3ca3row0_col0\" class=\"data row0 col0\" >0.498397</td> \n",
       "        <td id=\"T_e2df710e_07b7_11e9_b13a_74c63bbb3ca3row0_col1\" class=\"data row0 col1\" >0.506049</td> \n",
       "        <td id=\"T_e2df710e_07b7_11e9_b13a_74c63bbb3ca3row0_col2\" class=\"data row0 col2\" >0.559059</td> \n",
       "    </tr>    <tr> \n",
       "        <th id=\"T_e2df710e_07b7_11e9_b13a_74c63bbb3ca3level0_row1\" class=\"row_heading level0 row1\" >2</th> \n",
       "        <td id=\"T_e2df710e_07b7_11e9_b13a_74c63bbb3ca3row1_col0\" class=\"data row1 col0\" >0.665974</td> \n",
       "        <td id=\"T_e2df710e_07b7_11e9_b13a_74c63bbb3ca3row1_col1\" class=\"data row1 col1\" >0.63864</td> \n",
       "        <td id=\"T_e2df710e_07b7_11e9_b13a_74c63bbb3ca3row1_col2\" class=\"data row1 col2\" >0.684933</td> \n",
       "    </tr>    <tr> \n",
       "        <th id=\"T_e2df710e_07b7_11e9_b13a_74c63bbb3ca3level0_row2\" class=\"row_heading level0 row2\" >3</th> \n",
       "        <td id=\"T_e2df710e_07b7_11e9_b13a_74c63bbb3ca3row2_col0\" class=\"data row2 col0\" >0.687742</td> \n",
       "        <td id=\"T_e2df710e_07b7_11e9_b13a_74c63bbb3ca3row2_col1\" class=\"data row2 col1\" >0.66858</td> \n",
       "        <td id=\"T_e2df710e_07b7_11e9_b13a_74c63bbb3ca3row2_col2\" class=\"data row2 col2\" >0.701666</td> \n",
       "    </tr>    <tr> \n",
       "        <th id=\"T_e2df710e_07b7_11e9_b13a_74c63bbb3ca3level0_row3\" class=\"row_heading level0 row3\" >4</th> \n",
       "        <td id=\"T_e2df710e_07b7_11e9_b13a_74c63bbb3ca3row3_col0\" class=\"data row3 col0\" >0.734575</td> \n",
       "        <td id=\"T_e2df710e_07b7_11e9_b13a_74c63bbb3ca3row3_col1\" class=\"data row3 col1\" >0.720286</td> \n",
       "        <td id=\"T_e2df710e_07b7_11e9_b13a_74c63bbb3ca3row3_col2\" class=\"data row3 col2\" >0.755695</td> \n",
       "    </tr>    <tr> \n",
       "        <th id=\"T_e2df710e_07b7_11e9_b13a_74c63bbb3ca3level0_row4\" class=\"row_heading level0 row4\" >5</th> \n",
       "        <td id=\"T_e2df710e_07b7_11e9_b13a_74c63bbb3ca3row4_col0\" class=\"data row4 col0\" >0.756147</td> \n",
       "        <td id=\"T_e2df710e_07b7_11e9_b13a_74c63bbb3ca3row4_col1\" class=\"data row4 col1\" >0.750585</td> \n",
       "        <td id=\"T_e2df710e_07b7_11e9_b13a_74c63bbb3ca3row4_col2\" class=\"data row4 col2\" >0.769031</td> \n",
       "    </tr>    <tr> \n",
       "        <th id=\"T_e2df710e_07b7_11e9_b13a_74c63bbb3ca3level0_row5\" class=\"row_heading level0 row5\" >6</th> \n",
       "        <td id=\"T_e2df710e_07b7_11e9_b13a_74c63bbb3ca3row5_col0\" class=\"data row5 col0\" >0.769054</td> \n",
       "        <td id=\"T_e2df710e_07b7_11e9_b13a_74c63bbb3ca3row5_col1\" class=\"data row5 col1\" >0.766408</td> \n",
       "        <td id=\"T_e2df710e_07b7_11e9_b13a_74c63bbb3ca3row5_col2\" class=\"data row5 col2\" >0.788715</td> \n",
       "    </tr>    <tr> \n",
       "        <th id=\"T_e2df710e_07b7_11e9_b13a_74c63bbb3ca3level0_row6\" class=\"row_heading level0 row6\" >7</th> \n",
       "        <td id=\"T_e2df710e_07b7_11e9_b13a_74c63bbb3ca3row6_col0\" class=\"data row6 col0\" >0.782205</td> \n",
       "        <td id=\"T_e2df710e_07b7_11e9_b13a_74c63bbb3ca3row6_col1\" class=\"data row6 col1\" >0.768926</td> \n",
       "        <td id=\"T_e2df710e_07b7_11e9_b13a_74c63bbb3ca3row6_col2\" class=\"data row6 col2\" >0.772191</td> \n",
       "    </tr>    <tr> \n",
       "        <th id=\"T_e2df710e_07b7_11e9_b13a_74c63bbb3ca3level0_row7\" class=\"row_heading level0 row7\" >8</th> \n",
       "        <td id=\"T_e2df710e_07b7_11e9_b13a_74c63bbb3ca3row7_col0\" class=\"data row7 col0\" >0.765601</td> \n",
       "        <td id=\"T_e2df710e_07b7_11e9_b13a_74c63bbb3ca3row7_col1\" class=\"data row7 col1\" >0.765973</td> \n",
       "        <td id=\"T_e2df710e_07b7_11e9_b13a_74c63bbb3ca3row7_col2\" class=\"data row7 col2\" >0.784052</td> \n",
       "    </tr>    <tr> \n",
       "        <th id=\"T_e2df710e_07b7_11e9_b13a_74c63bbb3ca3level0_row8\" class=\"row_heading level0 row8\" >9</th> \n",
       "        <td id=\"T_e2df710e_07b7_11e9_b13a_74c63bbb3ca3row8_col0\" class=\"data row8 col0\" >0.813915</td> \n",
       "        <td id=\"T_e2df710e_07b7_11e9_b13a_74c63bbb3ca3row8_col1\" class=\"data row8 col1\" >0.80182</td> \n",
       "        <td id=\"T_e2df710e_07b7_11e9_b13a_74c63bbb3ca3row8_col2\" class=\"data row8 col2\" >0.813659</td> \n",
       "    </tr>    <tr> \n",
       "        <th id=\"T_e2df710e_07b7_11e9_b13a_74c63bbb3ca3level0_row9\" class=\"row_heading level0 row9\" >10</th> \n",
       "        <td id=\"T_e2df710e_07b7_11e9_b13a_74c63bbb3ca3row9_col0\" class=\"data row9 col0\" >0.796242</td> \n",
       "        <td id=\"T_e2df710e_07b7_11e9_b13a_74c63bbb3ca3row9_col1\" class=\"data row9 col1\" >0.794141</td> \n",
       "        <td id=\"T_e2df710e_07b7_11e9_b13a_74c63bbb3ca3row9_col2\" class=\"data row9 col2\" >0.827222</td> \n",
       "    </tr>    <tr> \n",
       "        <th id=\"T_e2df710e_07b7_11e9_b13a_74c63bbb3ca3level0_row10\" class=\"row_heading level0 row10\" >11</th> \n",
       "        <td id=\"T_e2df710e_07b7_11e9_b13a_74c63bbb3ca3row10_col0\" class=\"data row10 col0\" >0.809231</td> \n",
       "        <td id=\"T_e2df710e_07b7_11e9_b13a_74c63bbb3ca3row10_col1\" class=\"data row10 col1\" >0.791067</td> \n",
       "        <td id=\"T_e2df710e_07b7_11e9_b13a_74c63bbb3ca3row10_col2\" class=\"data row10 col2\" >0.8425</td> \n",
       "    </tr>    <tr> \n",
       "        <th id=\"T_e2df710e_07b7_11e9_b13a_74c63bbb3ca3level0_row11\" class=\"row_heading level0 row11\" >12</th> \n",
       "        <td id=\"T_e2df710e_07b7_11e9_b13a_74c63bbb3ca3row11_col0\" class=\"data row11 col0\" >0.813545</td> \n",
       "        <td id=\"T_e2df710e_07b7_11e9_b13a_74c63bbb3ca3row11_col1\" class=\"data row11 col1\" >0.821546</td> \n",
       "        <td id=\"T_e2df710e_07b7_11e9_b13a_74c63bbb3ca3row11_col2\" class=\"data row11 col2\" >0.824236</td> \n",
       "    </tr>    <tr> \n",
       "        <th id=\"T_e2df710e_07b7_11e9_b13a_74c63bbb3ca3level0_row12\" class=\"row_heading level0 row12\" >13</th> \n",
       "        <td id=\"T_e2df710e_07b7_11e9_b13a_74c63bbb3ca3row12_col0\" class=\"data row12 col0\" >0.835153</td> \n",
       "        <td id=\"T_e2df710e_07b7_11e9_b13a_74c63bbb3ca3row12_col1\" class=\"data row12 col1\" >0.79552</td> \n",
       "        <td id=\"T_e2df710e_07b7_11e9_b13a_74c63bbb3ca3row12_col2\" class=\"data row12 col2\" >0.850833</td> \n",
       "    </tr>    <tr> \n",
       "        <th id=\"T_e2df710e_07b7_11e9_b13a_74c63bbb3ca3level0_row13\" class=\"row_heading level0 row13\" >14</th> \n",
       "        <td id=\"T_e2df710e_07b7_11e9_b13a_74c63bbb3ca3row13_col0\" class=\"data row13 col0\" >0.838576</td> \n",
       "        <td id=\"T_e2df710e_07b7_11e9_b13a_74c63bbb3ca3row13_col1\" class=\"data row13 col1\" >0.82999</td> \n",
       "        <td id=\"T_e2df710e_07b7_11e9_b13a_74c63bbb3ca3row13_col2\" class=\"data row13 col2\" >0.85085</td> \n",
       "    </tr>    <tr> \n",
       "        <th id=\"T_e2df710e_07b7_11e9_b13a_74c63bbb3ca3level0_row14\" class=\"row_heading level0 row14\" >15</th> \n",
       "        <td id=\"T_e2df710e_07b7_11e9_b13a_74c63bbb3ca3row14_col0\" class=\"data row14 col0\" >0.85076</td> \n",
       "        <td id=\"T_e2df710e_07b7_11e9_b13a_74c63bbb3ca3row14_col1\" class=\"data row14 col1\" >0.826894</td> \n",
       "        <td id=\"T_e2df710e_07b7_11e9_b13a_74c63bbb3ca3row14_col2\" class=\"data row14 col2\" >0.848449</td> \n",
       "    </tr>    <tr> \n",
       "        <th id=\"T_e2df710e_07b7_11e9_b13a_74c63bbb3ca3level0_row15\" class=\"row_heading level0 row15\" >16</th> \n",
       "        <td id=\"T_e2df710e_07b7_11e9_b13a_74c63bbb3ca3row15_col0\" class=\"data row15 col0\" >0.852161</td> \n",
       "        <td id=\"T_e2df710e_07b7_11e9_b13a_74c63bbb3ca3row15_col1\" class=\"data row15 col1\" >0.827498</td> \n",
       "        <td id=\"T_e2df710e_07b7_11e9_b13a_74c63bbb3ca3row15_col2\" class=\"data row15 col2\" >0.868617</td> \n",
       "    </tr>    <tr> \n",
       "        <th id=\"T_e2df710e_07b7_11e9_b13a_74c63bbb3ca3level0_row16\" class=\"row_heading level0 row16\" >17</th> \n",
       "        <td id=\"T_e2df710e_07b7_11e9_b13a_74c63bbb3ca3row16_col0\" class=\"data row16 col0\" >0.846128</td> \n",
       "        <td id=\"T_e2df710e_07b7_11e9_b13a_74c63bbb3ca3row16_col1\" class=\"data row16 col1\" >0.801616</td> \n",
       "        <td id=\"T_e2df710e_07b7_11e9_b13a_74c63bbb3ca3row16_col2\" class=\"data row16 col2\" >0.860855</td> \n",
       "    </tr>    <tr> \n",
       "        <th id=\"T_e2df710e_07b7_11e9_b13a_74c63bbb3ca3level0_row17\" class=\"row_heading level0 row17\" >18</th> \n",
       "        <td id=\"T_e2df710e_07b7_11e9_b13a_74c63bbb3ca3row17_col0\" class=\"data row17 col0\" >0.85478</td> \n",
       "        <td id=\"T_e2df710e_07b7_11e9_b13a_74c63bbb3ca3row17_col1\" class=\"data row17 col1\" >0.837289</td> \n",
       "        <td id=\"T_e2df710e_07b7_11e9_b13a_74c63bbb3ca3row17_col2\" class=\"data row17 col2\" >0.856407</td> \n",
       "    </tr>    <tr> \n",
       "        <th id=\"T_e2df710e_07b7_11e9_b13a_74c63bbb3ca3level0_row18\" class=\"row_heading level0 row18\" >19</th> \n",
       "        <td id=\"T_e2df710e_07b7_11e9_b13a_74c63bbb3ca3row18_col0\" class=\"data row18 col0\" >0.851964</td> \n",
       "        <td id=\"T_e2df710e_07b7_11e9_b13a_74c63bbb3ca3row18_col1\" class=\"data row18 col1\" >0.839335</td> \n",
       "        <td id=\"T_e2df710e_07b7_11e9_b13a_74c63bbb3ca3row18_col2\" class=\"data row18 col2\" >0.856204</td> \n",
       "    </tr>    <tr> \n",
       "        <th id=\"T_e2df710e_07b7_11e9_b13a_74c63bbb3ca3level0_row19\" class=\"row_heading level0 row19\" >20</th> \n",
       "        <td id=\"T_e2df710e_07b7_11e9_b13a_74c63bbb3ca3row19_col0\" class=\"data row19 col0\" >0.879439</td> \n",
       "        <td id=\"T_e2df710e_07b7_11e9_b13a_74c63bbb3ca3row19_col1\" class=\"data row19 col1\" >0.846135</td> \n",
       "        <td id=\"T_e2df710e_07b7_11e9_b13a_74c63bbb3ca3row19_col2\" class=\"data row19 col2\" >0.838039</td> \n",
       "    </tr></tbody> \n",
       "</table> "
      ],
      "text/plain": [
       "<pandas.io.formats.style.Styler at 0x7f7a0cdf3f28>"
      ]
     },
     "execution_count": 78,
     "metadata": {},
     "output_type": "execute_result"
    }
   ],
   "source": [
    "stocks_f1_table.style.apply(highlight_max, axis=0)"
   ]
  },
  {
   "cell_type": "code",
   "execution_count": 79,
   "metadata": {},
   "outputs": [
    {
     "data": {
      "text/html": [
       "<style  type=\"text/css\" >\n",
       "    #T_e9709c3c_07b7_11e9_b13a_74c63bbb3ca3row18_col0 {\n",
       "            background-color:  yellow;\n",
       "        }    #T_e9709c3c_07b7_11e9_b13a_74c63bbb3ca3row18_col1 {\n",
       "            background-color:  yellow;\n",
       "        }    #T_e9709c3c_07b7_11e9_b13a_74c63bbb3ca3row19_col2 {\n",
       "            background-color:  yellow;\n",
       "        }</style>  \n",
       "<table id=\"T_e9709c3c_07b7_11e9_b13a_74c63bbb3ca3\" > \n",
       "<thead>    <tr> \n",
       "        <th class=\"blank level0\" ></th> \n",
       "        <th class=\"col_heading level0 col0\" >GSPC</th> \n",
       "        <th class=\"col_heading level0 col1\" >DJI</th> \n",
       "        <th class=\"col_heading level0 col2\" >NDX</th> \n",
       "    </tr></thead> \n",
       "<tbody>    <tr> \n",
       "        <th id=\"T_e9709c3c_07b7_11e9_b13a_74c63bbb3ca3level0_row0\" class=\"row_heading level0 row0\" >1</th> \n",
       "        <td id=\"T_e9709c3c_07b7_11e9_b13a_74c63bbb3ca3row0_col0\" class=\"data row0 col0\" >0.599298</td> \n",
       "        <td id=\"T_e9709c3c_07b7_11e9_b13a_74c63bbb3ca3row0_col1\" class=\"data row0 col1\" >0.560229</td> \n",
       "        <td id=\"T_e9709c3c_07b7_11e9_b13a_74c63bbb3ca3row0_col2\" class=\"data row0 col2\" >0.63261</td> \n",
       "    </tr>    <tr> \n",
       "        <th id=\"T_e9709c3c_07b7_11e9_b13a_74c63bbb3ca3level0_row1\" class=\"row_heading level0 row1\" >2</th> \n",
       "        <td id=\"T_e9709c3c_07b7_11e9_b13a_74c63bbb3ca3row1_col0\" class=\"data row1 col0\" >0.675367</td> \n",
       "        <td id=\"T_e9709c3c_07b7_11e9_b13a_74c63bbb3ca3row1_col1\" class=\"data row1 col1\" >0.649046</td> \n",
       "        <td id=\"T_e9709c3c_07b7_11e9_b13a_74c63bbb3ca3row1_col2\" class=\"data row1 col2\" >0.69422</td> \n",
       "    </tr>    <tr> \n",
       "        <th id=\"T_e9709c3c_07b7_11e9_b13a_74c63bbb3ca3level0_row2\" class=\"row_heading level0 row2\" >3</th> \n",
       "        <td id=\"T_e9709c3c_07b7_11e9_b13a_74c63bbb3ca3row2_col0\" class=\"data row2 col0\" >0.720396</td> \n",
       "        <td id=\"T_e9709c3c_07b7_11e9_b13a_74c63bbb3ca3row2_col1\" class=\"data row2 col1\" >0.69802</td> \n",
       "        <td id=\"T_e9709c3c_07b7_11e9_b13a_74c63bbb3ca3row2_col2\" class=\"data row2 col2\" >0.72734</td> \n",
       "    </tr>    <tr> \n",
       "        <th id=\"T_e9709c3c_07b7_11e9_b13a_74c63bbb3ca3level0_row3\" class=\"row_heading level0 row3\" >4</th> \n",
       "        <td id=\"T_e9709c3c_07b7_11e9_b13a_74c63bbb3ca3row3_col0\" class=\"data row3 col0\" >0.753398</td> \n",
       "        <td id=\"T_e9709c3c_07b7_11e9_b13a_74c63bbb3ca3row3_col1\" class=\"data row3 col1\" >0.737591</td> \n",
       "        <td id=\"T_e9709c3c_07b7_11e9_b13a_74c63bbb3ca3row3_col2\" class=\"data row3 col2\" >0.726561</td> \n",
       "    </tr>    <tr> \n",
       "        <th id=\"T_e9709c3c_07b7_11e9_b13a_74c63bbb3ca3level0_row4\" class=\"row_heading level0 row4\" >5</th> \n",
       "        <td id=\"T_e9709c3c_07b7_11e9_b13a_74c63bbb3ca3row4_col0\" class=\"data row4 col0\" >0.710915</td> \n",
       "        <td id=\"T_e9709c3c_07b7_11e9_b13a_74c63bbb3ca3row4_col1\" class=\"data row4 col1\" >0.759499</td> \n",
       "        <td id=\"T_e9709c3c_07b7_11e9_b13a_74c63bbb3ca3row4_col2\" class=\"data row4 col2\" >0.768754</td> \n",
       "    </tr>    <tr> \n",
       "        <th id=\"T_e9709c3c_07b7_11e9_b13a_74c63bbb3ca3level0_row5\" class=\"row_heading level0 row5\" >6</th> \n",
       "        <td id=\"T_e9709c3c_07b7_11e9_b13a_74c63bbb3ca3row5_col0\" class=\"data row5 col0\" >0.732822</td> \n",
       "        <td id=\"T_e9709c3c_07b7_11e9_b13a_74c63bbb3ca3row5_col1\" class=\"data row5 col1\" >0.759789</td> \n",
       "        <td id=\"T_e9709c3c_07b7_11e9_b13a_74c63bbb3ca3row5_col2\" class=\"data row5 col2\" >0.760293</td> \n",
       "    </tr>    <tr> \n",
       "        <th id=\"T_e9709c3c_07b7_11e9_b13a_74c63bbb3ca3level0_row6\" class=\"row_heading level0 row6\" >7</th> \n",
       "        <td id=\"T_e9709c3c_07b7_11e9_b13a_74c63bbb3ca3row6_col0\" class=\"data row6 col0\" >0.775011</td> \n",
       "        <td id=\"T_e9709c3c_07b7_11e9_b13a_74c63bbb3ca3row6_col1\" class=\"data row6 col1\" >0.80046</td> \n",
       "        <td id=\"T_e9709c3c_07b7_11e9_b13a_74c63bbb3ca3row6_col2\" class=\"data row6 col2\" >0.798649</td> \n",
       "    </tr>    <tr> \n",
       "        <th id=\"T_e9709c3c_07b7_11e9_b13a_74c63bbb3ca3level0_row7\" class=\"row_heading level0 row7\" >8</th> \n",
       "        <td id=\"T_e9709c3c_07b7_11e9_b13a_74c63bbb3ca3row7_col0\" class=\"data row7 col0\" >0.786776</td> \n",
       "        <td id=\"T_e9709c3c_07b7_11e9_b13a_74c63bbb3ca3row7_col1\" class=\"data row7 col1\" >0.803791</td> \n",
       "        <td id=\"T_e9709c3c_07b7_11e9_b13a_74c63bbb3ca3row7_col2\" class=\"data row7 col2\" >0.825746</td> \n",
       "    </tr>    <tr> \n",
       "        <th id=\"T_e9709c3c_07b7_11e9_b13a_74c63bbb3ca3level0_row8\" class=\"row_heading level0 row8\" >9</th> \n",
       "        <td id=\"T_e9709c3c_07b7_11e9_b13a_74c63bbb3ca3row8_col0\" class=\"data row8 col0\" >0.797253</td> \n",
       "        <td id=\"T_e9709c3c_07b7_11e9_b13a_74c63bbb3ca3row8_col1\" class=\"data row8 col1\" >0.795334</td> \n",
       "        <td id=\"T_e9709c3c_07b7_11e9_b13a_74c63bbb3ca3row8_col2\" class=\"data row8 col2\" >0.79488</td> \n",
       "    </tr>    <tr> \n",
       "        <th id=\"T_e9709c3c_07b7_11e9_b13a_74c63bbb3ca3level0_row9\" class=\"row_heading level0 row9\" >10</th> \n",
       "        <td id=\"T_e9709c3c_07b7_11e9_b13a_74c63bbb3ca3row9_col0\" class=\"data row9 col0\" >0.815183</td> \n",
       "        <td id=\"T_e9709c3c_07b7_11e9_b13a_74c63bbb3ca3row9_col1\" class=\"data row9 col1\" >0.805056</td> \n",
       "        <td id=\"T_e9709c3c_07b7_11e9_b13a_74c63bbb3ca3row9_col2\" class=\"data row9 col2\" >0.823747</td> \n",
       "    </tr>    <tr> \n",
       "        <th id=\"T_e9709c3c_07b7_11e9_b13a_74c63bbb3ca3level0_row10\" class=\"row_heading level0 row10\" >11</th> \n",
       "        <td id=\"T_e9709c3c_07b7_11e9_b13a_74c63bbb3ca3row10_col0\" class=\"data row10 col0\" >0.777958</td> \n",
       "        <td id=\"T_e9709c3c_07b7_11e9_b13a_74c63bbb3ca3row10_col1\" class=\"data row10 col1\" >0.806783</td> \n",
       "        <td id=\"T_e9709c3c_07b7_11e9_b13a_74c63bbb3ca3row10_col2\" class=\"data row10 col2\" >0.833556</td> \n",
       "    </tr>    <tr> \n",
       "        <th id=\"T_e9709c3c_07b7_11e9_b13a_74c63bbb3ca3level0_row11\" class=\"row_heading level0 row11\" >12</th> \n",
       "        <td id=\"T_e9709c3c_07b7_11e9_b13a_74c63bbb3ca3row11_col0\" class=\"data row11 col0\" >0.781816</td> \n",
       "        <td id=\"T_e9709c3c_07b7_11e9_b13a_74c63bbb3ca3row11_col1\" class=\"data row11 col1\" >0.798296</td> \n",
       "        <td id=\"T_e9709c3c_07b7_11e9_b13a_74c63bbb3ca3row11_col2\" class=\"data row11 col2\" >0.846306</td> \n",
       "    </tr>    <tr> \n",
       "        <th id=\"T_e9709c3c_07b7_11e9_b13a_74c63bbb3ca3level0_row12\" class=\"row_heading level0 row12\" >13</th> \n",
       "        <td id=\"T_e9709c3c_07b7_11e9_b13a_74c63bbb3ca3row12_col0\" class=\"data row12 col0\" >0.821247</td> \n",
       "        <td id=\"T_e9709c3c_07b7_11e9_b13a_74c63bbb3ca3row12_col1\" class=\"data row12 col1\" >0.824065</td> \n",
       "        <td id=\"T_e9709c3c_07b7_11e9_b13a_74c63bbb3ca3row12_col2\" class=\"data row12 col2\" >0.870095</td> \n",
       "    </tr>    <tr> \n",
       "        <th id=\"T_e9709c3c_07b7_11e9_b13a_74c63bbb3ca3level0_row13\" class=\"row_heading level0 row13\" >14</th> \n",
       "        <td id=\"T_e9709c3c_07b7_11e9_b13a_74c63bbb3ca3row13_col0\" class=\"data row13 col0\" >0.813204</td> \n",
       "        <td id=\"T_e9709c3c_07b7_11e9_b13a_74c63bbb3ca3row13_col1\" class=\"data row13 col1\" >0.817297</td> \n",
       "        <td id=\"T_e9709c3c_07b7_11e9_b13a_74c63bbb3ca3row13_col2\" class=\"data row13 col2\" >0.850797</td> \n",
       "    </tr>    <tr> \n",
       "        <th id=\"T_e9709c3c_07b7_11e9_b13a_74c63bbb3ca3level0_row14\" class=\"row_heading level0 row14\" >15</th> \n",
       "        <td id=\"T_e9709c3c_07b7_11e9_b13a_74c63bbb3ca3row14_col0\" class=\"data row14 col0\" >0.82933</td> \n",
       "        <td id=\"T_e9709c3c_07b7_11e9_b13a_74c63bbb3ca3row14_col1\" class=\"data row14 col1\" >0.838219</td> \n",
       "        <td id=\"T_e9709c3c_07b7_11e9_b13a_74c63bbb3ca3row14_col2\" class=\"data row14 col2\" >0.840547</td> \n",
       "    </tr>    <tr> \n",
       "        <th id=\"T_e9709c3c_07b7_11e9_b13a_74c63bbb3ca3level0_row15\" class=\"row_heading level0 row15\" >16</th> \n",
       "        <td id=\"T_e9709c3c_07b7_11e9_b13a_74c63bbb3ca3row15_col0\" class=\"data row15 col0\" >0.837822</td> \n",
       "        <td id=\"T_e9709c3c_07b7_11e9_b13a_74c63bbb3ca3row15_col1\" class=\"data row15 col1\" >0.824046</td> \n",
       "        <td id=\"T_e9709c3c_07b7_11e9_b13a_74c63bbb3ca3row15_col2\" class=\"data row15 col2\" >0.865351</td> \n",
       "    </tr>    <tr> \n",
       "        <th id=\"T_e9709c3c_07b7_11e9_b13a_74c63bbb3ca3level0_row16\" class=\"row_heading level0 row16\" >17</th> \n",
       "        <td id=\"T_e9709c3c_07b7_11e9_b13a_74c63bbb3ca3row16_col0\" class=\"data row16 col0\" >0.832718</td> \n",
       "        <td id=\"T_e9709c3c_07b7_11e9_b13a_74c63bbb3ca3row16_col1\" class=\"data row16 col1\" >0.84735</td> \n",
       "        <td id=\"T_e9709c3c_07b7_11e9_b13a_74c63bbb3ca3row16_col2\" class=\"data row16 col2\" >0.867753</td> \n",
       "    </tr>    <tr> \n",
       "        <th id=\"T_e9709c3c_07b7_11e9_b13a_74c63bbb3ca3level0_row17\" class=\"row_heading level0 row17\" >18</th> \n",
       "        <td id=\"T_e9709c3c_07b7_11e9_b13a_74c63bbb3ca3row17_col0\" class=\"data row17 col0\" >0.836815</td> \n",
       "        <td id=\"T_e9709c3c_07b7_11e9_b13a_74c63bbb3ca3row17_col1\" class=\"data row17 col1\" >0.864635</td> \n",
       "        <td id=\"T_e9709c3c_07b7_11e9_b13a_74c63bbb3ca3row17_col2\" class=\"data row17 col2\" >0.832442</td> \n",
       "    </tr>    <tr> \n",
       "        <th id=\"T_e9709c3c_07b7_11e9_b13a_74c63bbb3ca3level0_row18\" class=\"row_heading level0 row18\" >19</th> \n",
       "        <td id=\"T_e9709c3c_07b7_11e9_b13a_74c63bbb3ca3row18_col0\" class=\"data row18 col0\" >0.84955</td> \n",
       "        <td id=\"T_e9709c3c_07b7_11e9_b13a_74c63bbb3ca3row18_col1\" class=\"data row18 col1\" >0.873254</td> \n",
       "        <td id=\"T_e9709c3c_07b7_11e9_b13a_74c63bbb3ca3row18_col2\" class=\"data row18 col2\" >0.864621</td> \n",
       "    </tr>    <tr> \n",
       "        <th id=\"T_e9709c3c_07b7_11e9_b13a_74c63bbb3ca3level0_row19\" class=\"row_heading level0 row19\" >20</th> \n",
       "        <td id=\"T_e9709c3c_07b7_11e9_b13a_74c63bbb3ca3row19_col0\" class=\"data row19 col0\" >0.831099</td> \n",
       "        <td id=\"T_e9709c3c_07b7_11e9_b13a_74c63bbb3ca3row19_col1\" class=\"data row19 col1\" >0.860407</td> \n",
       "        <td id=\"T_e9709c3c_07b7_11e9_b13a_74c63bbb3ca3row19_col2\" class=\"data row19 col2\" >0.897082</td> \n",
       "    </tr></tbody> \n",
       "</table> "
      ],
      "text/plain": [
       "<pandas.io.formats.style.Styler at 0x7f7a0cdf7780>"
      ]
     },
     "execution_count": 79,
     "metadata": {},
     "output_type": "execute_result"
    }
   ],
   "source": [
    "indices_f1_table.style.apply(highlight_max, axis=0)"
   ]
  },
  {
   "cell_type": "code",
   "execution_count": null,
   "metadata": {},
   "outputs": [],
   "source": []
  }
 ],
 "metadata": {
  "kernelspec": {
   "display_name": "Python 3",
   "language": "python",
   "name": "python3"
  },
  "language_info": {
   "codemirror_mode": {
    "name": "ipython",
    "version": 3
   },
   "file_extension": ".py",
   "mimetype": "text/x-python",
   "name": "python",
   "nbconvert_exporter": "python",
   "pygments_lexer": "ipython3",
   "version": "3.8.5"
  }
 },
 "nbformat": 4,
 "nbformat_minor": 2
}
